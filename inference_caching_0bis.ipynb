{
 "cells": [
  {
   "cell_type": "code",
   "execution_count": 1,
   "metadata": {},
   "outputs": [],
   "source": [
    "import torch\n",
    "import torch.nn.functional as F\n",
    "\n",
    "from jamba import JambaLMConfig, Jamba, AttentionLayer, MambaLayer"
   ]
  },
  {
   "cell_type": "code",
   "execution_count": 2,
   "metadata": {},
   "outputs": [],
   "source": [
    "config = JambaLMConfig(d_model=64, mlp_size=12, n_layers=1, num_attention_heads=32, num_key_value_heads=8, attn_layer_offset=0)\n",
    "layer = Jamba(config)"
   ]
  },
  {
   "cell_type": "code",
   "execution_count": 3,
   "metadata": {},
   "outputs": [],
   "source": [
    "x = torch.randn(1, 10, 64)"
   ]
  },
  {
   "cell_type": "code",
   "execution_count": 4,
   "metadata": {},
   "outputs": [
    {
     "data": {
      "text/plain": [
       "torch.Size([1, 10, 64])"
      ]
     },
     "execution_count": 4,
     "metadata": {},
     "output_type": "execute_result"
    }
   ],
   "source": [
    "output = layer(x)\n",
    "output.shape"
   ]
  },
  {
   "cell_type": "code",
   "execution_count": 5,
   "metadata": {},
   "outputs": [
    {
     "data": {
      "text/plain": [
       "tensor([[46, 14, 47, 29, 50, 35, 36, 49, 20, 55]])"
      ]
     },
     "execution_count": 5,
     "metadata": {},
     "output_type": "execute_result"
    }
   ],
   "source": [
    "output.argmax(-1)"
   ]
  },
  {
   "cell_type": "code",
   "execution_count": 6,
   "metadata": {},
   "outputs": [
    {
     "name": "stdout",
     "output_type": "stream",
     "text": [
      "tensor([46])\n",
      "tensor([14])\n",
      "tensor([47])\n",
      "tensor([29])\n",
      "tensor([50])\n",
      "tensor([35])\n",
      "tensor([36])\n",
      "tensor([49])\n",
      "tensor([20])\n",
      "tensor([55])\n"
     ]
    }
   ],
   "source": [
    "cache = [layer.layers[0].get_empty_cache(1)]\n",
    "ys = []\n",
    "for i in range(10):\n",
    "    y, cache = layer.step(x[:, [i]], cache)\n",
    "    print(y[0].argmax(-1))\n",
    "    ys.append(y[0])\n",
    "\n",
    "ys = torch.stack(ys, dim=1).squeeze(2)"
   ]
  },
  {
   "cell_type": "code",
   "execution_count": 7,
   "metadata": {},
   "outputs": [
    {
     "data": {
      "text/plain": [
       "True"
      ]
     },
     "execution_count": 7,
     "metadata": {},
     "output_type": "execute_result"
    }
   ],
   "source": [
    "torch.allclose(output, ys, rtol=0.01)"
   ]
  },
  {
   "cell_type": "code",
   "execution_count": 8,
   "metadata": {},
   "outputs": [
    {
     "name": "stdout",
     "output_type": "stream",
     "text": [
      "tensor(0.0433, grad_fn=<MeanBackward0>)\n",
      "tensor(-0.1767, grad_fn=<MeanBackward0>)\n",
      "tensor(0.2905, grad_fn=<MeanBackward0>)\n",
      "tensor(-0.1766, grad_fn=<MeanBackward0>)\n",
      "tensor(0.0499, grad_fn=<MeanBackward0>)\n",
      "tensor(-0.1062, grad_fn=<MeanBackward0>)\n",
      "tensor(-0.0894, grad_fn=<MeanBackward0>)\n",
      "tensor(0.0102, grad_fn=<MeanBackward0>)\n",
      "tensor(-0.1781, grad_fn=<MeanBackward0>)\n",
      "tensor(-0.1762, grad_fn=<MeanBackward0>)\n"
     ]
    }
   ],
   "source": [
    "caches = [layer.layers[i].get_empty_cache(1) for i in range(config.n_layers)]\n",
    "\n",
    "for i in range(10):\n",
    "    next_token_logits, caches = layer.step(x[:, [i]], caches)\n",
    "    print(next_token_logits.mean())\n",
    "    probs = F.softmax(next_token_logits, dim=-1)\n",
    "    next_token = torch.argmax(probs, dim=-1)"
   ]
  },
  {
   "cell_type": "code",
   "execution_count": 9,
   "metadata": {},
   "outputs": [
    {
     "data": {
      "text/plain": [
       "tensor([[ 0.0433, -0.1767,  0.2905, -0.1766,  0.0499, -0.1062, -0.0894,  0.0102,\n",
       "         -0.1781, -0.1762]], grad_fn=<MeanBackward1>)"
      ]
     },
     "execution_count": 9,
     "metadata": {},
     "output_type": "execute_result"
    }
   ],
   "source": [
    "ys.mean(2)"
   ]
  },
  {
   "cell_type": "code",
   "execution_count": 10,
   "metadata": {},
   "outputs": [
    {
     "data": {
      "text/plain": [
       "tensor([[ 0.0433, -0.1767,  0.2905, -0.1766,  0.0499, -0.1062, -0.0894,  0.0102,\n",
       "         -0.1781, -0.1762]], grad_fn=<MeanBackward1>)"
      ]
     },
     "execution_count": 10,
     "metadata": {},
     "output_type": "execute_result"
    }
   ],
   "source": [
    "output.mean(2)"
   ]
  },
  {
   "cell_type": "code",
   "execution_count": null,
   "metadata": {},
   "outputs": [],
   "source": []
  }
 ],
 "metadata": {
  "kernelspec": {
   "display_name": "torch23",
   "language": "python",
   "name": "python3"
  },
  "language_info": {
   "codemirror_mode": {
    "name": "ipython",
    "version": 3
   },
   "file_extension": ".py",
   "mimetype": "text/x-python",
   "name": "python",
   "nbconvert_exporter": "python",
   "pygments_lexer": "ipython3",
   "version": "3.12.2"
  }
 },
 "nbformat": 4,
 "nbformat_minor": 2
}

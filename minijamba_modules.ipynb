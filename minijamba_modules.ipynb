{
 "cells": [
  {
   "cell_type": "code",
   "execution_count": 2,
   "metadata": {},
   "outputs": [],
   "source": [
    "import torch\n",
    "from configuration_jamba import JambaConfig\n",
    "from modeling_jamba import JambaMambaMixer\n",
    "\n",
    "from mamba import MambaConfig, MambaBlock"
   ]
  },
  {
   "cell_type": "code",
   "execution_count": 23,
   "metadata": {},
   "outputs": [],
   "source": [
    "torch.manual_seed(23456)\n",
    "config = JambaConfig(vocab_size=60, hidden_size=64, intermediate_size=128, num_hidden_layers=4, use_mamba_kernels=False)\n",
    "mixer = JambaMambaMixer(config, 0)\n",
    "\n",
    "torch.manual_seed(23456)\n",
    "config_mamba = MambaConfig(d_model=64, n_layers=4, rms_norm_eps=1e-6, inner_layernorms=True)\n",
    "model = MambaBlock(config_mamba)"
   ]
  },
  {
   "cell_type": "code",
   "execution_count": 24,
   "metadata": {},
   "outputs": [
    {
     "data": {
      "text/plain": [
       "tensor(0.0145, grad_fn=<MeanBackward0>)"
      ]
     },
     "execution_count": 24,
     "metadata": {},
     "output_type": "execute_result"
    }
   ],
   "source": [
    "mixer.conv1d.weight.mean()"
   ]
  },
  {
   "cell_type": "code",
   "execution_count": 25,
   "metadata": {},
   "outputs": [
    {
     "data": {
      "text/plain": [
       "tensor(0.0055, grad_fn=<MeanBackward0>)"
      ]
     },
     "execution_count": 25,
     "metadata": {},
     "output_type": "execute_result"
    }
   ],
   "source": [
    "model.conv1d.weight.mean()"
   ]
  },
  {
   "cell_type": "code",
   "execution_count": 7,
   "metadata": {},
   "outputs": [
    {
     "data": {
      "text/plain": [
       "torch.Size([10, 12, 64])"
      ]
     },
     "execution_count": 7,
     "metadata": {},
     "output_type": "execute_result"
    }
   ],
   "source": [
    "x = torch.randn(10, 12, 64)\n",
    "mixer(x)[0].shape"
   ]
  },
  {
   "cell_type": "code",
   "execution_count": 5,
   "metadata": {},
   "outputs": [
    {
     "data": {
      "text/plain": [
       "JambaMambaMixer(\n",
       "  (conv1d): Conv1d(128, 128, kernel_size=(4,), stride=(1,), padding=(3,), groups=128)\n",
       "  (act): SiLU()\n",
       "  (in_proj): Linear(in_features=64, out_features=256, bias=False)\n",
       "  (x_proj): Linear(in_features=128, out_features=36, bias=False)\n",
       "  (dt_proj): Linear(in_features=4, out_features=128, bias=True)\n",
       "  (out_proj): Linear(in_features=128, out_features=64, bias=False)\n",
       "  (dt_layernorm): JambaRMSNorm()\n",
       "  (B_layernorm): JambaRMSNorm()\n",
       "  (C_layernorm): JambaRMSNorm()\n",
       ")"
      ]
     },
     "execution_count": 5,
     "metadata": {},
     "output_type": "execute_result"
    }
   ],
   "source": [
    "mixer"
   ]
  },
  {
   "cell_type": "code",
   "execution_count": 26,
   "metadata": {},
   "outputs": [
    {
     "data": {
      "text/plain": [
       "MambaBlock(\n",
       "  (in_proj): Linear(in_features=64, out_features=256, bias=False)\n",
       "  (conv1d): Conv1d(128, 128, kernel_size=(4,), stride=(1,), padding=(3,), groups=128)\n",
       "  (x_proj): Linear(in_features=128, out_features=36, bias=False)\n",
       "  (dt_proj): Linear(in_features=4, out_features=128, bias=True)\n",
       "  (out_proj): Linear(in_features=128, out_features=64, bias=False)\n",
       "  (dt_layernorm): RMSNorm()\n",
       "  (B_layernorm): RMSNorm()\n",
       "  (C_layernorm): RMSNorm()\n",
       ")"
      ]
     },
     "execution_count": 26,
     "metadata": {},
     "output_type": "execute_result"
    }
   ],
   "source": [
    "model"
   ]
  },
  {
   "cell_type": "code",
   "execution_count": null,
   "metadata": {},
   "outputs": [],
   "source": []
  }
 ],
 "metadata": {
  "kernelspec": {
   "display_name": "torch23",
   "language": "python",
   "name": "python3"
  },
  "language_info": {
   "codemirror_mode": {
    "name": "ipython",
    "version": 3
   },
   "file_extension": ".py",
   "mimetype": "text/x-python",
   "name": "python",
   "nbconvert_exporter": "python",
   "pygments_lexer": "ipython3",
   "version": "3.12.2"
  }
 },
 "nbformat": 4,
 "nbformat_minor": 2
}

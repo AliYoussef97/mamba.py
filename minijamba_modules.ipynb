{
 "cells": [
  {
   "cell_type": "code",
   "execution_count": 2,
   "metadata": {},
   "outputs": [],
   "source": [
    "import torch\n",
    "from configuration_jamba import JambaConfig\n",
    "from modeling_jamba import JambaMambaMixer, JambaMLP\n",
    "\n",
    "from mamba import MambaConfig, MambaBlock\n",
    "from jamba import JambaConfig as myJambaConfig, JambaMLP as myJambaMLP"
   ]
  },
  {
   "cell_type": "markdown",
   "metadata": {},
   "source": [
    "# JambaMambaMixer = MambaBlock"
   ]
  },
  {
   "cell_type": "code",
   "execution_count": null,
   "metadata": {},
   "outputs": [],
   "source": [
    "config = JambaConfig(vocab_size=60, hidden_size=64, intermediate_size=128, num_hidden_layers=4, use_mamba_kernels=False)\n",
    "mixer = JambaMambaMixer(config, 0)\n",
    "\n",
    "config_mamba = MambaConfig(d_model=64, n_layers=4, rms_norm_eps=1e-6, inner_layernorms=True)\n",
    "model = MambaBlock(config_mamba)\n",
    "\n",
    "for name, param in mixer.named_parameters():\n",
    "    counterpart_param = model.get_parameter(name)\n",
    "    if counterpart_param is not None:\n",
    "        counterpart_param.data.copy_(param.data)"
   ]
  },
  {
   "cell_type": "code",
   "execution_count": null,
   "metadata": {},
   "outputs": [],
   "source": [
    "x = torch.randn(10, 12, 64)\n",
    "torch.allclose(mixer(x)[0], model(x), rtol=0.001)"
   ]
  },
  {
   "cell_type": "markdown",
   "metadata": {},
   "source": [
    "# JambaMLP"
   ]
  },
  {
   "cell_type": "code",
   "execution_count": null,
   "metadata": {},
   "outputs": [],
   "source": [
    "config = JambaConfig(vocab_size=60, hidden_size=64, intermediate_size=128, num_hidden_layers=4, use_mamba_kernels=False)\n",
    "mixer = JambaMLP(config)\n",
    "\n",
    "config_jamba = myJambaConfig(d_model=64, n_layers=4, rms_norm_eps=1e-6, mlp_size=128, inner_layernorms=True)\n",
    "model = myJambaMLP(config_jamba)\n",
    "\n",
    "for name, param in mixer.named_parameters():\n",
    "    counterpart_param = model.get_parameter(name)\n",
    "    if counterpart_param is not None:\n",
    "        counterpart_param.data.copy_(param.data)"
   ]
  },
  {
   "cell_type": "code",
   "execution_count": null,
   "metadata": {},
   "outputs": [],
   "source": [
    "x = torch.randn(10, 12, 64)\n",
    "torch.allclose(mixer(x), model(x))"
   ]
  },
  {
   "cell_type": "markdown",
   "metadata": {},
   "source": [
    "# JambaSparseMoeBlock"
   ]
  },
  {
   "cell_type": "code",
   "execution_count": 19,
   "metadata": {},
   "outputs": [],
   "source": [
    "from configuration_jamba import JambaConfig\n",
    "from modeling_jamba import JambaSparseMoeBlock\n",
    "\n",
    "from jamba import JambaConfig as myJambaConfig, JambaSparseMoeBlock as myJambaSparseMoeBlock"
   ]
  },
  {
   "cell_type": "code",
   "execution_count": 25,
   "metadata": {},
   "outputs": [],
   "source": [
    "config = JambaConfig(vocab_size=60, hidden_size=64, intermediate_size=128, num_hidden_layers=4, use_mamba_kernels=False)\n",
    "mixer = JambaSparseMoeBlock(config, num_experts=8, num_experts_per_tok=2)\n",
    "\n",
    "config_jamba = myJambaConfig(d_model=64, n_layers=4, rms_norm_eps=1e-6, mlp_size=128, inner_layernorms=True)\n",
    "model = myJambaSparseMoeBlock(config_jamba, num_experts=8, num_experts_per_tok=2)\n",
    "\n",
    "for name, param in mixer.named_parameters():\n",
    "    counterpart_param = model.get_parameter(name)\n",
    "    if counterpart_param is not None:\n",
    "        counterpart_param.data.copy_(param.data)"
   ]
  },
  {
   "cell_type": "code",
   "execution_count": 26,
   "metadata": {},
   "outputs": [
    {
     "data": {
      "text/plain": [
       "True"
      ]
     },
     "execution_count": 26,
     "metadata": {},
     "output_type": "execute_result"
    }
   ],
   "source": [
    "x = torch.randn(10, 12, 64)\n",
    "torch.allclose(mixer(x)[0], model(x)[0])"
   ]
  },
  {
   "cell_type": "markdown",
   "metadata": {},
   "source": [
    "# JambaMambaDecoderLayer"
   ]
  },
  {
   "cell_type": "code",
   "execution_count": null,
   "metadata": {},
   "outputs": [],
   "source": [
    "from configuration_jamba import JambaConfig\n",
    "from modeling_jamba import JambaMambaDecoderLayer\n",
    "\n",
    "from jamba import JambaConfig as myJambaConfig, JambaMambaDecoderLayer as myJambaMambaDecoderLayer"
   ]
  },
  {
   "cell_type": "code",
   "execution_count": null,
   "metadata": {},
   "outputs": [],
   "source": [
    "config = JambaConfig(vocab_size=60, hidden_size=64, intermediate_size=128, num_hidden_layers=4, use_mamba_kernels=False)\n",
    "mixer = JambaMambaDecoderLayer(config, num_experts=1, layer_idx=0)\n",
    "\n",
    "config_jamba = myJambaConfig(d_model=64, n_layers=4, rms_norm_eps=1e-6, mlp_size=128, inner_layernorms=True)\n",
    "model = myJambaMambaDecoderLayer(config_jamba, num_experts=1)\n",
    "\n",
    "for name, param in mixer.named_parameters():\n",
    "    counterpart_param = model.get_parameter(name)\n",
    "    if counterpart_param is not None:\n",
    "        counterpart_param.data.copy_(param.data)"
   ]
  },
  {
   "cell_type": "code",
   "execution_count": null,
   "metadata": {},
   "outputs": [],
   "source": [
    "x = torch.randn(10, 12, 64)\n",
    "torch.allclose(mixer(x)[0], model(x)[0], rtol=0.001)"
   ]
  },
  {
   "cell_type": "markdown",
   "metadata": {},
   "source": [
    "# JambaSdpaAttention"
   ]
  },
  {
   "cell_type": "code",
   "execution_count": null,
   "metadata": {},
   "outputs": [],
   "source": [
    "from configuration_jamba import JambaConfig\n",
    "from modeling_jamba import JambaSdpaAttention\n",
    "\n",
    "from jamba import JambaConfig as myJambaConfig, JambaSdpaAttention as myJambaSdpaAttention"
   ]
  },
  {
   "cell_type": "code",
   "execution_count": null,
   "metadata": {},
   "outputs": [],
   "source": [
    "config = JambaConfig(vocab_size=60, hidden_size=64, intermediate_size=128, num_hidden_layers=4, use_mamba_kernels=False)\n",
    "mixer = JambaSdpaAttention(config, layer_idx=0)\n",
    "\n",
    "config_jamba = myJambaConfig(d_model=64, n_layers=4, rms_norm_eps=1e-6, mlp_size=128, inner_layernorms=True)\n",
    "model = myJambaSdpaAttention(config_jamba)\n",
    "\n",
    "for name, param in mixer.named_parameters():\n",
    "    counterpart_param = model.get_parameter(name)\n",
    "    if counterpart_param is not None:\n",
    "        counterpart_param.data.copy_(param.data)"
   ]
  },
  {
   "cell_type": "code",
   "execution_count": null,
   "metadata": {},
   "outputs": [],
   "source": [
    "x = torch.randn(10, 12, 64)\n",
    "torch.allclose(mixer(x)[0], model(x))"
   ]
  },
  {
   "cell_type": "markdown",
   "metadata": {},
   "source": [
    "# JambaAttentionDecoderLayer"
   ]
  },
  {
   "cell_type": "code",
   "execution_count": null,
   "metadata": {},
   "outputs": [],
   "source": [
    "from configuration_jamba import JambaConfig\n",
    "from modeling_jamba import JambaAttentionDecoderLayer\n",
    "\n",
    "from jamba import JambaConfig as myJambaConfig, JambaAttentionDecoderLayer as myJambaAttentionDecoderLayer"
   ]
  },
  {
   "cell_type": "code",
   "execution_count": null,
   "metadata": {},
   "outputs": [],
   "source": [
    "config = JambaConfig(vocab_size=60, hidden_size=64, intermediate_size=128, num_hidden_layers=4, use_mamba_kernels=False)\n",
    "mixer = JambaAttentionDecoderLayer(config, num_experts=1, layer_idx=0)\n",
    "\n",
    "config_jamba = myJambaConfig(d_model=64, n_layers=4, rms_norm_eps=1e-6, mlp_size=128, inner_layernorms=True)\n",
    "model = myJambaAttentionDecoderLayer(config_jamba, num_experts=1)\n",
    "\n",
    "for name, param in mixer.named_parameters():\n",
    "    counterpart_param = model.get_parameter(name)\n",
    "    if counterpart_param is not None:\n",
    "        counterpart_param.data.copy_(param.data)"
   ]
  },
  {
   "cell_type": "code",
   "execution_count": null,
   "metadata": {},
   "outputs": [],
   "source": [
    "x = torch.randn(10, 12, 64)\n",
    "torch.allclose(mixer(x)[0], model(x)[0])"
   ]
  },
  {
   "cell_type": "markdown",
   "metadata": {},
   "source": [
    "# JambaModel"
   ]
  },
  {
   "cell_type": "code",
   "execution_count": 3,
   "metadata": {},
   "outputs": [],
   "source": [
    "from configuration_jamba import JambaConfig\n",
    "from modeling_jamba import JambaModel\n",
    "\n",
    "from jamba import JambaConfig as myJambaConfig, JambaModel as myJambaModel"
   ]
  },
  {
   "cell_type": "code",
   "execution_count": 27,
   "metadata": {},
   "outputs": [],
   "source": [
    "config = JambaConfig(vocab_size=60, hidden_size=64, intermediate_size=128, use_mamba_kernels=False)\n",
    "mixer = JambaModel(config)\n",
    "\n",
    "config_jamba = myJambaConfig(vocab_size=60, d_model=64, n_layers=32, rms_norm_eps=1e-6, mlp_size=128, inner_layernorms=True)\n",
    "model = myJambaModel(config_jamba)\n",
    "\n",
    "for name, param in mixer.named_parameters():\n",
    "    counterpart_param = model.get_parameter(name)\n",
    "    if counterpart_param is not None:\n",
    "        counterpart_param.data.copy_(param.data)"
   ]
  },
  {
   "cell_type": "code",
   "execution_count": 28,
   "metadata": {},
   "outputs": [
    {
     "data": {
      "text/plain": [
       "True"
      ]
     },
     "execution_count": 28,
     "metadata": {},
     "output_type": "execute_result"
    }
   ],
   "source": [
    "x = torch.randint(low=0, high=60, size=(10, 12))\n",
    "torch.allclose(mixer(x).last_hidden_state, model(x), rtol=0.001)"
   ]
  },
  {
   "cell_type": "markdown",
   "metadata": {},
   "source": [
    "# overall"
   ]
  },
  {
   "cell_type": "code",
   "execution_count": 5,
   "metadata": {},
   "outputs": [],
   "source": [
    "import torch\n",
    "\n",
    "from configuration_jamba import JambaConfig\n",
    "from modeling_jamba import JambaForCausalLM\n",
    "\n",
    "from jamba import JambaLMConfig as myJambaLMConfig, JambaLM as myJambaLM"
   ]
  },
  {
   "cell_type": "code",
   "execution_count": 13,
   "metadata": {},
   "outputs": [],
   "source": [
    "config = JambaConfig(vocab_size=60, hidden_size=256, num_hidden_layers=8, intermediate_size=128, use_mamba_kernels=False)\n",
    "mixer = JambaForCausalLM(config)\n",
    "\n",
    "config_jamba = myJambaLMConfig(vocab_size=60, d_model=256, n_layers=8, rms_norm_eps=1e-6, mlp_size=128, inner_layernorms=True)\n",
    "model = myJambaLM(config_jamba)\n",
    "\n",
    "for name, param in mixer.named_parameters():\n",
    "    name = name.replace(\"model.\", \"jamba.\")\n",
    "    \n",
    "    if \"embed_tokens\" in name:\n",
    "        name = \"embedding.weight\"\n",
    "    \n",
    "    if \"final_layernorm\" in name:\n",
    "        name = name.replace(\"jamba.\", \"\")\n",
    "    \n",
    "    counterpart_param = model.get_parameter(name)\n",
    "    if counterpart_param is not None:\n",
    "        counterpart_param.data.copy_(param.data)"
   ]
  },
  {
   "cell_type": "code",
   "execution_count": 24,
   "metadata": {},
   "outputs": [
    {
     "data": {
      "text/plain": [
       "True"
      ]
     },
     "execution_count": 24,
     "metadata": {},
     "output_type": "execute_result"
    }
   ],
   "source": [
    "x = torch.randint(low=0, high=60, size=(10, 12))\n",
    "torch.allclose(mixer(x).logits, model(x), rtol=0.01)"
   ]
  },
  {
   "cell_type": "code",
   "execution_count": null,
   "metadata": {},
   "outputs": [],
   "source": []
  }
 ],
 "metadata": {
  "kernelspec": {
   "display_name": "torch23",
   "language": "python",
   "name": "python3"
  },
  "language_info": {
   "codemirror_mode": {
    "name": "ipython",
    "version": 3
   },
   "file_extension": ".py",
   "mimetype": "text/x-python",
   "name": "python",
   "nbconvert_exporter": "python",
   "pygments_lexer": "ipython3",
   "version": "3.12.2"
  }
 },
 "nbformat": 4,
 "nbformat_minor": 2
}

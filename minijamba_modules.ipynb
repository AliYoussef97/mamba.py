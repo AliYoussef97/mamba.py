{
 "cells": [
  {
   "cell_type": "code",
   "execution_count": 2,
   "metadata": {},
   "outputs": [],
   "source": [
    "import torch\n",
    "from configuration_jamba import JambaConfig\n",
    "from modeling_jamba import JambaMambaMixer, JambaMLP\n",
    "\n",
    "from mamba import MambaConfig, MambaBlock\n",
    "from jamba import JambaConfig as myJambaConfig, JambaMLP as myJambaMLP"
   ]
  },
  {
   "cell_type": "markdown",
   "metadata": {},
   "source": [
    "# JambaMambaMixer = MambaBlock"
   ]
  },
  {
   "cell_type": "code",
   "execution_count": 47,
   "metadata": {},
   "outputs": [],
   "source": [
    "config = JambaConfig(vocab_size=60, hidden_size=64, intermediate_size=128, num_hidden_layers=4, use_mamba_kernels=False)\n",
    "mixer = JambaMambaMixer(config, 0)\n",
    "\n",
    "config_mamba = MambaConfig(d_model=64, n_layers=4, rms_norm_eps=1e-6, inner_layernorms=True)\n",
    "model = MambaBlock(config_mamba)\n",
    "\n",
    "for name, param in mixer.named_parameters():\n",
    "    counterpart_param = model.get_parameter(name)\n",
    "    if counterpart_param is not None:\n",
    "        counterpart_param.data.copy_(param.data)"
   ]
  },
  {
   "cell_type": "code",
   "execution_count": 48,
   "metadata": {},
   "outputs": [
    {
     "data": {
      "text/plain": [
       "True"
      ]
     },
     "execution_count": 48,
     "metadata": {},
     "output_type": "execute_result"
    }
   ],
   "source": [
    "x = torch.randn(10, 12, 64)\n",
    "torch.allclose(mixer(x)[0], model(x), rtol=0.001)"
   ]
  },
  {
   "cell_type": "markdown",
   "metadata": {},
   "source": [
    "# JambaMLP"
   ]
  },
  {
   "cell_type": "code",
   "execution_count": 69,
   "metadata": {},
   "outputs": [],
   "source": [
    "config = JambaConfig(vocab_size=60, hidden_size=64, intermediate_size=128, num_hidden_layers=4, use_mamba_kernels=False)\n",
    "mixer = JambaMLP(config)\n",
    "\n",
    "config_jamba = myJambaConfig(d_model=64, n_layers=4, rms_norm_eps=1e-6, mlp_size=128, inner_layernorms=True)\n",
    "model = myJambaMLP(config_jamba)\n",
    "\n",
    "for name, param in mixer.named_parameters():\n",
    "    counterpart_param = model.get_parameter(name)\n",
    "    if counterpart_param is not None:\n",
    "        counterpart_param.data.copy_(param.data)"
   ]
  },
  {
   "cell_type": "code",
   "execution_count": 75,
   "metadata": {},
   "outputs": [
    {
     "data": {
      "text/plain": [
       "True"
      ]
     },
     "execution_count": 75,
     "metadata": {},
     "output_type": "execute_result"
    }
   ],
   "source": [
    "x = torch.randn(10, 12, 64)\n",
    "torch.allclose(mixer(x), model(x))"
   ]
  },
  {
   "cell_type": "markdown",
   "metadata": {},
   "source": [
    "# JambaSparseMoeBlock"
   ]
  },
  {
   "cell_type": "code",
   "execution_count": 3,
   "metadata": {},
   "outputs": [],
   "source": [
    "from configuration_jamba import JambaConfig\n",
    "from modeling_jamba import JambaSparseMoeBlock\n",
    "\n",
    "from jamba import JambaConfig as myJambaConfig, JambaSparseMoeBlock as myJambaSparseMoeBlock"
   ]
  },
  {
   "cell_type": "code",
   "execution_count": 12,
   "metadata": {},
   "outputs": [],
   "source": [
    "config = JambaConfig(vocab_size=60, hidden_size=64, intermediate_size=128, num_hidden_layers=4, use_mamba_kernels=False)\n",
    "mixer = JambaSparseMoeBlock(config, num_experts=1, num_experts_per_tok=2)\n",
    "\n",
    "config_jamba = myJambaConfig(d_model=64, n_layers=4, rms_norm_eps=1e-6, mlp_size=128, inner_layernorms=True)\n",
    "model = myJambaSparseMoeBlock(config_jamba, num_experts=1, num_experts_per_tok=2)\n",
    "\n",
    "for name, param in mixer.named_parameters():\n",
    "    counterpart_param = model.get_parameter(name)\n",
    "    if counterpart_param is not None:\n",
    "        counterpart_param.data.copy_(param.data)"
   ]
  },
  {
   "cell_type": "code",
   "execution_count": 17,
   "metadata": {},
   "outputs": [
    {
     "data": {
      "text/plain": [
       "True"
      ]
     },
     "execution_count": 17,
     "metadata": {},
     "output_type": "execute_result"
    }
   ],
   "source": [
    "x = torch.randn(10, 12, 64)\n",
    "torch.allclose(mixer(x)[0], model(x)[0])"
   ]
  },
  {
   "cell_type": "markdown",
   "metadata": {},
   "source": [
    "# JambaMambaDecoderLayer"
   ]
  },
  {
   "cell_type": "code",
   "execution_count": 3,
   "metadata": {},
   "outputs": [],
   "source": [
    "from configuration_jamba import JambaConfig\n",
    "from modeling_jamba import JambaMambaDecoderLayer\n",
    "\n",
    "from jamba import JambaConfig as myJambaConfig, JambaMambaDecoderLayer as myJambaMambaDecoderLayer"
   ]
  },
  {
   "cell_type": "code",
   "execution_count": 4,
   "metadata": {},
   "outputs": [
    {
     "name": "stderr",
     "output_type": "stream",
     "text": [
      "The fast path is not available because on of `(selective_state_update, selective_scan_fn, causal_conv1d_fn, causal_conv1d_update, mamba_inner_fn)` is None. To install follow https://github.com/state-spaces/mamba/#installation and https://github.com/Dao-AILab/causal-conv1d. If you want to use the naive implementation, set `use_mamba_kernels=False` in the model config\n"
     ]
    }
   ],
   "source": [
    "config = JambaConfig(vocab_size=60, hidden_size=64, intermediate_size=128, num_hidden_layers=4, use_mamba_kernels=False)\n",
    "mixer = JambaMambaDecoderLayer(config, num_experts=1, layer_idx=0)\n",
    "\n",
    "config_jamba = myJambaConfig(d_model=64, n_layers=4, rms_norm_eps=1e-6, mlp_size=128, inner_layernorms=True)\n",
    "model = myJambaMambaDecoderLayer(config_jamba, num_experts=1)\n",
    "\n",
    "for name, param in mixer.named_parameters():\n",
    "    counterpart_param = model.get_parameter(name)\n",
    "    if counterpart_param is not None:\n",
    "        counterpart_param.data.copy_(param.data)"
   ]
  },
  {
   "cell_type": "code",
   "execution_count": 16,
   "metadata": {},
   "outputs": [
    {
     "data": {
      "text/plain": [
       "True"
      ]
     },
     "execution_count": 16,
     "metadata": {},
     "output_type": "execute_result"
    }
   ],
   "source": [
    "x = torch.randn(10, 12, 64)\n",
    "torch.allclose(mixer(x)[0], model(x)[0], rtol=0.001)"
   ]
  },
  {
   "cell_type": "markdown",
   "metadata": {},
   "source": [
    "# JambaSdpaAttention"
   ]
  },
  {
   "cell_type": "code",
   "execution_count": null,
   "metadata": {},
   "outputs": [],
   "source": []
  }
 ],
 "metadata": {
  "kernelspec": {
   "display_name": "torch23",
   "language": "python",
   "name": "python3"
  },
  "language_info": {
   "codemirror_mode": {
    "name": "ipython",
    "version": 3
   },
   "file_extension": ".py",
   "mimetype": "text/x-python",
   "name": "python",
   "nbconvert_exporter": "python",
   "pygments_lexer": "ipython3",
   "version": "3.12.2"
  }
 },
 "nbformat": 4,
 "nbformat_minor": 2
}

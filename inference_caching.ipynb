{
 "cells": [
  {
   "cell_type": "code",
   "execution_count": 1,
   "metadata": {},
   "outputs": [
    {
     "name": "stderr",
     "output_type": "stream",
     "text": [
      "/Users/alexandretorres/miniconda3/envs/torch23/lib/python3.12/site-packages/tqdm/auto.py:21: TqdmWarning: IProgress not found. Please update jupyter and ipywidgets. See https://ipywidgets.readthedocs.io/en/stable/user_install.html\n",
      "  from .autonotebook import tqdm as notebook_tqdm\n"
     ]
    }
   ],
   "source": [
    "import torch\n",
    "import torch.nn.functional as F\n",
    "\n",
    "from transformers import AutoTokenizer, AutoModelForCausalLM\n",
    "\n",
    "from jamba import JambaLMConfig, JambaLM, MambaLayer, AttentionLayer"
   ]
  },
  {
   "cell_type": "code",
   "execution_count": 2,
   "metadata": {},
   "outputs": [
    {
     "name": "stderr",
     "output_type": "stream",
     "text": [
      "The fast path is not available because on of `(selective_state_update, selective_scan_fn, causal_conv1d_fn, causal_conv1d_update, mamba_inner_fn)` is None. To install follow https://github.com/state-spaces/mamba/#installation and https://github.com/Dao-AILab/causal-conv1d. If you want to use the naive implementation, set `use_mamba_kernels=False` in the model config\n"
     ]
    }
   ],
   "source": [
    "tokenizer = AutoTokenizer.from_pretrained(\"TechxGenus/Mini-Jamba\", trust_remote_code=True,)\n",
    "tokenizer.pad_token = tokenizer.eos_token\n",
    "\n",
    "hf_model = AutoModelForCausalLM.from_pretrained(\"TechxGenus/Mini-Jamba\", torch_dtype=torch.float16, use_mamba_kernels=False, \n",
    "                                             device_map=\"auto\", trust_remote_code=True)"
   ]
  },
  {
   "cell_type": "code",
   "execution_count": 3,
   "metadata": {},
   "outputs": [
    {
     "data": {
      "text/plain": [
       "'\\nconfig_jamba = JambaLMConfig(d_model=64, n_layers=32, mlp_size=128, vocab_size=60, attn_layer_period=2, attn_layer_offset=1)\\n# 100, 4 = full mamba; 1, 0 = full attention\\nmodel = JambaLM(config_jamba)\\nmodel = model.eval()\\n'"
      ]
     },
     "execution_count": 3,
     "metadata": {},
     "output_type": "execute_result"
    }
   ],
   "source": [
    "config_jamba = JambaLMConfig(vocab_size=hf_model.config.vocab_size, d_model=hf_model.config.hidden_size, n_layers=hf_model.config.num_hidden_layers, \n",
    "                               rms_norm_eps=hf_model.config.rms_norm_eps, mlp_size=hf_model.config.intermediate_size, inner_layernorms=hf_model.config.mamba_inner_layernorms,\n",
    "                               expand_factor=hf_model.config.mamba_expand, dt_rank=hf_model.config.mamba_dt_rank, d_state=hf_model.config.mamba_d_state,\n",
    "                               d_conv=hf_model.config.mamba_d_conv, conv_bias=hf_model.config.mamba_conv_bias, initializer_range=hf_model.config.initializer_range,\n",
    "                               num_experts=hf_model.config.num_experts, num_experts_per_tok=hf_model.config.num_experts_per_tok, \n",
    "                               attn_layer_offset=hf_model.config.attn_layer_offset, attn_layer_period=hf_model.config.attn_layer_period, \n",
    "                               expert_layer_offset=hf_model.config.expert_layer_offset, expert_layer_period=hf_model.config.expert_layer_period,\n",
    "                               num_key_value_heads=hf_model.config.num_key_value_heads, num_attention_heads=hf_model.config.num_attention_heads,\n",
    "                               pad_token_id=hf_model.config.pad_token_id, bias=hf_model.config.mamba_proj_bias, attention_dropout=hf_model.config.attention_dropout,\n",
    "                               tie_lm_weights=hf_model.config.tie_word_embeddings)\n",
    "\n",
    "model = JambaLM(config_jamba)\n",
    "\n",
    "for name, param in hf_model.named_parameters():\n",
    "    name = name.replace(\"model.\", \"jamba.\")\n",
    "    \n",
    "    if \"embed_tokens\" in name:\n",
    "        name = \"embedding.weight\"\n",
    "    \n",
    "    if \"final_layernorm\" in name:\n",
    "        name = name.replace(\"jamba.\", \"\")\n",
    "\n",
    "    counterpart_param = model.get_parameter(name)\n",
    "    if counterpart_param is not None:\n",
    "        counterpart_param.data.copy_(param.data)\n",
    "\n",
    "\"\"\"\n",
    "config_jamba = JambaLMConfig(d_model=64, n_layers=32, mlp_size=128, vocab_size=60, attn_layer_period=2, attn_layer_offset=1)\n",
    "# 100, 4 = full mamba; 1, 0 = full attention\n",
    "model = JambaLM(config_jamba)\n",
    "model = model.eval()\n",
    "\"\"\""
   ]
  },
  {
   "cell_type": "code",
   "execution_count": 4,
   "metadata": {},
   "outputs": [
    {
     "name": "stdout",
     "output_type": "stream",
     "text": [
      "8\n",
      "8\n"
     ]
    }
   ],
   "source": [
    "print(sum([isinstance(layer, MambaLayer) for layer in model.jamba.layers]))\n",
    "print(sum([isinstance(layer, AttentionLayer) for layer in model.jamba.layers]))"
   ]
  },
  {
   "cell_type": "code",
   "execution_count": 5,
   "metadata": {},
   "outputs": [],
   "source": [
    "def gen_no_caching(num_tokens):\n",
    "    batch_size = 1\n",
    "    \n",
    "    input_ids = 1*torch.ones(batch_size, 1, dtype=torch.int64)\n",
    "\n",
    "    for i in range(num_tokens):\n",
    "        next_token_logits, _ = model(input_ids[:, 0:i+1])\n",
    "        print(next_token_logits[:, [-1]].mean())\n",
    "        probs = F.softmax(next_token_logits[:, [-1]], dim=-1)\n",
    "        next_token = torch.argmax(probs, dim=-1)\n",
    "\n",
    "        input_ids = torch.cat([input_ids, next_token], dim=1)\n",
    "\n",
    "    return input_ids"
   ]
  },
  {
   "cell_type": "code",
   "execution_count": 6,
   "metadata": {},
   "outputs": [
    {
     "name": "stdout",
     "output_type": "stream",
     "text": [
      "tensor(4.8229, grad_fn=<MeanBackward0>)\n",
      "tensor(36.0137, grad_fn=<MeanBackward0>)\n",
      "tensor(40.9549, grad_fn=<MeanBackward0>)\n",
      "tensor(42.1674, grad_fn=<MeanBackward0>)\n",
      "tensor(33.2820, grad_fn=<MeanBackward0>)\n",
      "tensor(4.1003, grad_fn=<MeanBackward0>)\n",
      "tensor(-0.9146, grad_fn=<MeanBackward0>)\n",
      "tensor(-3.4191, grad_fn=<MeanBackward0>)\n",
      "tensor(-4.0525, grad_fn=<MeanBackward0>)\n",
      "tensor(-6.5642, grad_fn=<MeanBackward0>)\n"
     ]
    },
    {
     "data": {
      "text/plain": [
       "tensor([[    1, 16249, 35307, 56791, 35307, 60128,  7007, 52545,  1554,  2534,\n",
       "          3068]])"
      ]
     },
     "execution_count": 6,
     "metadata": {},
     "output_type": "execute_result"
    }
   ],
   "source": [
    "gen_no_caching(10)"
   ]
  },
  {
   "cell_type": "code",
   "execution_count": 7,
   "metadata": {},
   "outputs": [],
   "source": [
    "def gen(num_tokens):\n",
    "    batch_size = 1\n",
    "\n",
    "    caches = [model.jamba.layers[i].get_empty_cache(batch_size) for i in range(config_jamba.n_layers)]\n",
    "    \n",
    "    input_ids = 1*torch.ones(batch_size, 1, dtype=torch.int64)\n",
    "\n",
    "    for i in range(num_tokens):\n",
    "        next_token_logits, caches = model(input_ids[:, [i]], caches)\n",
    "        print(next_token_logits.mean())\n",
    "        probs = F.softmax(next_token_logits, dim=-1)\n",
    "        next_token = torch.argmax(probs, dim=-1)\n",
    "\n",
    "        input_ids = torch.cat([input_ids, next_token], dim=1)\n",
    "\n",
    "    return input_ids"
   ]
  },
  {
   "cell_type": "code",
   "execution_count": 8,
   "metadata": {},
   "outputs": [
    {
     "name": "stdout",
     "output_type": "stream",
     "text": [
      "tensor(4.8229, grad_fn=<MeanBackward0>)\n",
      "tensor(36.0137, grad_fn=<MeanBackward0>)\n",
      "tensor(40.9549, grad_fn=<MeanBackward0>)\n",
      "tensor(42.1674, grad_fn=<MeanBackward0>)\n",
      "tensor(33.2820, grad_fn=<MeanBackward0>)\n",
      "tensor(4.1003, grad_fn=<MeanBackward0>)\n",
      "tensor(-0.9146, grad_fn=<MeanBackward0>)\n",
      "tensor(-3.4191, grad_fn=<MeanBackward0>)\n",
      "tensor(-4.0525, grad_fn=<MeanBackward0>)\n",
      "tensor(-6.5642, grad_fn=<MeanBackward0>)\n"
     ]
    },
    {
     "data": {
      "text/plain": [
       "tensor([[    1, 16249, 35307, 56791, 35307, 60128,  7007, 52545,  1554,  2534,\n",
       "          3068]])"
      ]
     },
     "execution_count": 8,
     "metadata": {},
     "output_type": "execute_result"
    }
   ],
   "source": [
    "gen(10)"
   ]
  },
  {
   "cell_type": "code",
   "execution_count": null,
   "metadata": {},
   "outputs": [],
   "source": []
  }
 ],
 "metadata": {
  "kernelspec": {
   "display_name": "torch23",
   "language": "python",
   "name": "python3"
  },
  "language_info": {
   "codemirror_mode": {
    "name": "ipython",
    "version": 3
   },
   "file_extension": ".py",
   "mimetype": "text/x-python",
   "name": "python",
   "nbconvert_exporter": "python",
   "pygments_lexer": "ipython3",
   "version": "3.12.2"
  }
 },
 "nbformat": 4,
 "nbformat_minor": 2
}

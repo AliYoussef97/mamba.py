{
 "cells": [
  {
   "cell_type": "code",
   "execution_count": 1,
   "metadata": {},
   "outputs": [],
   "source": [
    "import torch\n",
    "import torch.nn.functional as F\n",
    "\n",
    "from jamba import JambaLMConfig, JambaLM"
   ]
  },
  {
   "cell_type": "code",
   "execution_count": 17,
   "metadata": {},
   "outputs": [],
   "source": [
    "config = JambaLMConfig(d_model=64, n_layers=8, mlp_size=128, vocab_size=60, attn_layer_period=1, attn_layer_offset=0)\n",
    "# 100, 4 = full mamba\n",
    "# 1, 0 = full attention\n",
    "model = JambaLM(config)\n",
    "model = model.eval()"
   ]
  },
  {
   "cell_type": "code",
   "execution_count": 22,
   "metadata": {},
   "outputs": [],
   "source": [
    "def gen_no_caching(num_tokens):\n",
    "    batch_size = 1\n",
    "    \n",
    "    input_ids = 2*torch.ones(batch_size, 1, dtype=torch.int64)\n",
    "\n",
    "    for i in range(num_tokens):\n",
    "        next_token_logits, _ = model(input_ids[:, 0:i+1])\n",
    "        probs = F.softmax(next_token_logits[:, [-1]], dim=-1)\n",
    "        next_token = torch.argmax(probs, dim=-1)\n",
    "\n",
    "        input_ids = torch.cat([input_ids, next_token], dim=1)\n",
    "\n",
    "    return input_ids"
   ]
  },
  {
   "cell_type": "code",
   "execution_count": 23,
   "metadata": {},
   "outputs": [
    {
     "name": "stdout",
     "output_type": "stream",
     "text": [
      "tensor(0.0408, grad_fn=<MeanBackward0>)\n",
      "tensor(0.0367, grad_fn=<MeanBackward0>)\n",
      "tensor(0.0347, grad_fn=<MeanBackward0>)\n",
      "tensor(0.0334, grad_fn=<MeanBackward0>)\n"
     ]
    },
    {
     "data": {
      "text/plain": [
       "tensor([[ 2, 21, 21, 21, 21]])"
      ]
     },
     "execution_count": 23,
     "metadata": {},
     "output_type": "execute_result"
    }
   ],
   "source": [
    "gen_no_caching(4)"
   ]
  },
  {
   "cell_type": "code",
   "execution_count": 24,
   "metadata": {},
   "outputs": [],
   "source": [
    "def gen(num_tokens):\n",
    "    batch_size = 1\n",
    "\n",
    "    caches = [model.jamba.layers[i].get_empty_cache(batch_size) for i in range(config.n_layers)]\n",
    "    \n",
    "    input_ids = 2*torch.ones(batch_size, 1, dtype=torch.int64)\n",
    "\n",
    "    for i in range(num_tokens):\n",
    "        next_token_logits, caches = model(input_ids[:, [i]], caches)\n",
    "        probs = F.softmax(next_token_logits, dim=-1)\n",
    "        next_token = torch.argmax(probs, dim=-1)\n",
    "\n",
    "        input_ids = torch.cat([input_ids, next_token], dim=1)\n",
    "\n",
    "    return input_ids"
   ]
  },
  {
   "cell_type": "code",
   "execution_count": 25,
   "metadata": {},
   "outputs": [
    {
     "name": "stdout",
     "output_type": "stream",
     "text": [
      "tensor(0.0408, grad_fn=<MeanBackward0>)\n",
      "tensor(0.0359, grad_fn=<MeanBackward0>)\n",
      "tensor(0.0359, grad_fn=<MeanBackward0>)\n",
      "tensor(0.0359, grad_fn=<MeanBackward0>)\n"
     ]
    },
    {
     "data": {
      "text/plain": [
       "tensor([[ 2, 21, 21, 21, 21]])"
      ]
     },
     "execution_count": 25,
     "metadata": {},
     "output_type": "execute_result"
    }
   ],
   "source": [
    "gen(4)"
   ]
  },
  {
   "cell_type": "code",
   "execution_count": null,
   "metadata": {},
   "outputs": [],
   "source": []
  }
 ],
 "metadata": {
  "kernelspec": {
   "display_name": "torch23",
   "language": "python",
   "name": "python3"
  },
  "language_info": {
   "codemirror_mode": {
    "name": "ipython",
    "version": 3
   },
   "file_extension": ".py",
   "mimetype": "text/x-python",
   "name": "python",
   "nbconvert_exporter": "python",
   "pygments_lexer": "ipython3",
   "version": "3.12.2"
  }
 },
 "nbformat": 4,
 "nbformat_minor": 2
}

{
 "cells": [
  {
   "cell_type": "code",
   "execution_count": 1,
   "metadata": {},
   "outputs": [
    {
     "name": "stderr",
     "output_type": "stream",
     "text": [
      "/Users/alexandretorres/miniconda3/envs/torch23/lib/python3.12/site-packages/tqdm/auto.py:21: TqdmWarning: IProgress not found. Please update jupyter and ipywidgets. See https://ipywidgets.readthedocs.io/en/stable/user_install.html\n",
      "  from .autonotebook import tqdm as notebook_tqdm\n"
     ]
    }
   ],
   "source": [
    "import torch\n",
    "import torch.nn.functional as F\n",
    "\n",
    "from transformers import AutoTokenizer, AutoModelForCausalLM\n",
    "\n",
    "from jamba import JambaLMConfig as myJambaLMConfig, JambaLM as myJambaLM"
   ]
  },
  {
   "cell_type": "code",
   "execution_count": 74,
   "metadata": {},
   "outputs": [],
   "source": [
    "tokenizer = AutoTokenizer.from_pretrained(\"TechxGenus/Mini-Jamba\", trust_remote_code=True,)\n",
    "tokenizer.pad_token = tokenizer.eos_token\n",
    "\n",
    "model = AutoModelForCausalLM.from_pretrained(\"TechxGenus/Mini-Jamba\", torch_dtype=torch.float16, use_mamba_kernels=False, \n",
    "                                             device_map=\"auto\", trust_remote_code=True)"
   ]
  },
  {
   "cell_type": "code",
   "execution_count": 70,
   "metadata": {},
   "outputs": [
    {
     "data": {
      "text/plain": [
       "'def min(arr):\\n    \"\"\"\\n    Returns the minimum value from the list `arr`.\\n    \\n    Parameters:\\n    - arr (list): A list of numerical values.\\n    \\n    Returns:\\n    - The minimum value in `arr`.\\n    \"\"\"\\n    return min(arr)\\n\\n\\n'"
      ]
     },
     "execution_count": 70,
     "metadata": {},
     "output_type": "execute_result"
    }
   ],
   "source": [
    "prompt = '''def min(arr):\n",
    "    \"\"\"\n",
    "    Returns the minimum value from the list `arr`.\n",
    "    \n",
    "    Parameters:\n",
    "    - arr (list): A list of numerical values.\n",
    "    \n",
    "    Returns:\n",
    "    - The minimum value in `arr`.\n",
    "    \"\"\"\n",
    "'''\n",
    "\n",
    "inputs = tokenizer.encode(prompt, return_tensors=\"pt\")\n",
    "outputs = model.generate(input_ids=inputs, max_new_tokens=64, do_sample=False)\n",
    "tokenizer.decode(outputs[0], skip_special_tokens=True)"
   ]
  },
  {
   "cell_type": "code",
   "execution_count": 4,
   "metadata": {},
   "outputs": [],
   "source": [
    "config_jamba = myJambaLMConfig(vocab_size=model.config.vocab_size, d_model=model.config.hidden_size, n_layers=model.config.num_hidden_layers, \n",
    "                               rms_norm_eps=model.config.rms_norm_eps, mlp_size=model.config.intermediate_size, inner_layernorms=model.config.mamba_inner_layernorms,\n",
    "                               expand_factor=model.config.mamba_expand, dt_rank=model.config.mamba_dt_rank, d_state=model.config.mamba_d_state,\n",
    "                               d_conv=model.config.mamba_d_conv, conv_bias=model.config.mamba_conv_bias, initializer_range=model.config.initializer_range,\n",
    "                               num_experts=model.config.num_experts, num_experts_per_tok=model.config.num_experts_per_tok, \n",
    "                               attn_layer_offset=model.config.attn_layer_offset, attn_layer_period=model.config.attn_layer_period, \n",
    "                               expert_layer_offset=model.config.expert_layer_offset, expert_layer_period=model.config.expert_layer_period,\n",
    "                               num_key_value_heads=model.config.num_key_value_heads, num_attention_heads=model.config.num_attention_heads,\n",
    "                               pad_token_id=model.config.pad_token_id, bias=model.config.mamba_proj_bias, attention_dropout=model.config.attention_dropout,\n",
    "                               tie_lm_weights=model.config.tie_word_embeddings)\n",
    "\n",
    "my_model = myJambaLM(config_jamba)\n",
    "\n",
    "for name, param in model.named_parameters():\n",
    "    name = name.replace(\"model.\", \"jamba.\")\n",
    "    \n",
    "    if \"embed_tokens\" in name:\n",
    "        name = \"embedding.weight\"\n",
    "    \n",
    "    if \"final_layernorm\" in name:\n",
    "        name = name.replace(\"jamba.\", \"\")\n",
    "\n",
    "    counterpart_param = my_model.get_parameter(name)\n",
    "    if counterpart_param is not None:\n",
    "        counterpart_param.data.copy_(param.data)"
   ]
  },
  {
   "cell_type": "code",
   "execution_count": 58,
   "metadata": {},
   "outputs": [],
   "source": [
    "def generate(self, tokenizer, prompt: str, num_tokens: int = 50, batch_size: int = 1, sample: bool = True, top_k: int = 40, temperature: float = 1.0):\n",
    "    self.eval()\n",
    "\n",
    "    input_ids = tokenizer(prompt, return_tensors='pt').input_ids.to(next(self.parameters()).device) # (1, num_tokens)\n",
    "    input_ids = input_ids.repeat(batch_size, 1)\n",
    "\n",
    "    for i in range(input_ids.size(1) + num_tokens - 1):\n",
    "        with torch.no_grad():\n",
    "            # forward the new output, get new cache\n",
    "            next_token_logits, _ = self(input_ids[:, 0:i+1]) # (batch_size, vocab_size), caches\n",
    "\n",
    "        # sample (no sampling when the prompt is being processed)\n",
    "        if i+1 >= input_ids.size(1):\n",
    "            probs = F.softmax(next_token_logits[:, [-1]] / temperature, dim=-1) # (batch_size, vocab_size)\n",
    "            probs = probs.squeeze(1)\n",
    "\n",
    "            if top_k is not None:\n",
    "                values, _ = torch.topk(probs, k=top_k) # (batch_size, k) ordered from lowest to biggest\n",
    "                probs[probs < values[:, -1, None]] = 0\n",
    "                probs = probs / probs.sum(axis=1, keepdims=True)\n",
    "\n",
    "            if sample:\n",
    "                next_token = torch.multinomial(probs, num_samples=1).squeeze(1) # (batch_size)\n",
    "            else:\n",
    "                next_token = torch.argmax(probs, dim=-1) # (batch_size)\n",
    "\n",
    "            input_ids = torch.cat([input_ids, next_token.unsqueeze(1)], dim=1)\n",
    "                \n",
    "    outputs = [tokenizer.decode(output.tolist()) for output in input_ids[:, 1:]]\n",
    "\n",
    "    self.train()\n",
    "\n",
    "    if batch_size==1:\n",
    "        return outputs[0]\n",
    "    else:\n",
    "        return outputs\n",
    "        \n",
    "#todo : tester avec sample=True\n",
    "#todo : comments (caching)\n",
    "\n",
    "def generate_caching(self, tokenizer, prompt: str, num_tokens: int = 50, batch_size: int = 1, sample: bool = True, top_k: int = 40, temperature: float = 1.0):\n",
    "    self.eval()\n",
    "\n",
    "    input_ids = tokenizer(prompt, return_tensors='pt').input_ids.to(next(self.parameters()).device) # (1, num_tokens)\n",
    "    input_ids = input_ids.repeat(batch_size, 1)\n",
    "\n",
    "    # caches is a list of cache, one per layer\n",
    "    caches = [self.jamba.layers[i].get_empty_cache(batch_size) for i in range(self.config.n_layers)]\n",
    "\n",
    "    for i in range(input_ids.size(1) + num_tokens - 1):\n",
    "        with torch.no_grad():\n",
    "            # forward the new output, get new cache\n",
    "            next_token_logits, caches = self(input_ids[:, [i]], caches) # (batch_size, 1, vocab_size), caches\n",
    "            next_token_logits = next_token_logits.squeeze(1)\n",
    "\n",
    "        # sample (no sampling when the prompt is being processed)\n",
    "        if i+1 >= input_ids.size(1):\n",
    "            probs = F.softmax(next_token_logits / temperature, dim=-1) # (batch_size, vocab_size)\n",
    "\n",
    "            if top_k is not None:\n",
    "                values, _ = torch.topk(probs, k=top_k) # (batch_size, k) ordered from lowest to biggest\n",
    "                probs[probs < values[:, -1, None]] = 0\n",
    "                probs = probs / probs.sum(axis=1, keepdims=True)\n",
    "\n",
    "            if sample:\n",
    "                next_token = torch.multinomial(probs, num_samples=1).squeeze(1) # (batch_size)\n",
    "            else:\n",
    "                next_token = torch.argmax(probs, dim=-1) # (batch_size)\n",
    "\n",
    "            input_ids = torch.cat([input_ids, next_token.unsqueeze(1)], dim=1)\n",
    "                \n",
    "    outputs = [tokenizer.decode(output.tolist()) for output in input_ids[:, 1:]]\n",
    "\n",
    "    self.train()\n",
    "\n",
    "    if batch_size==1:\n",
    "        return outputs[0]\n",
    "    else:\n",
    "        return outputs"
   ]
  },
  {
   "cell_type": "code",
   "execution_count": 61,
   "metadata": {},
   "outputs": [
    {
     "name": "stdout",
     "output_type": "stream",
     "text": [
      "def min(arr):\n",
      "    \"\"\"\n",
      "    Returns the minimum value from the list `arr`.\n",
      "    \n",
      "    Parameters:\n",
      "    - arr (list): A list of numerical values.\n",
      "    \n",
      "    Returns:\n",
      "    - The minimum value in `arr`.\n",
      "    \"\"\"\n",
      "    return min(arr)\n",
      "\n",
      "\n",
      "<|endoftext|>\n"
     ]
    }
   ],
   "source": [
    "torch.manual_seed(12345678)\n",
    "output = generate(my_model, tokenizer, prompt, num_tokens=10, top_k=None, sample=False)\n",
    "print(output)"
   ]
  },
  {
   "cell_type": "code",
   "execution_count": 73,
   "metadata": {},
   "outputs": [
    {
     "name": "stdout",
     "output_type": "stream",
     "text": [
      "def min(arr):\n",
      "    \"\"\"\n",
      "    Returns the minimum value from the list `arr`.\n",
      "    \n",
      "    Parameters:\n",
      "    - arr (list): A list of numerical values.\n",
      "    \n",
      "    Returns:\n",
      "    - The minimum value in `arr`.\n",
      "    \"\"\"\n",
      "    return min(arr)\n",
      "\n",
      "\n",
      "<|endoftext|>\n"
     ]
    }
   ],
   "source": [
    "torch.manual_seed(12345678)\n",
    "output = generate_caching(my_model, tokenizer, prompt, num_tokens=10, top_k=None, sample=True)\n",
    "print(output)"
   ]
  },
  {
   "cell_type": "code",
   "execution_count": null,
   "metadata": {},
   "outputs": [],
   "source": []
  },
  {
   "cell_type": "code",
   "execution_count": null,
   "metadata": {},
   "outputs": [],
   "source": []
  },
  {
   "cell_type": "code",
   "execution_count": 48,
   "metadata": {},
   "outputs": [
    {
     "data": {
      "text/plain": [
       "'a=ו cooperate<|reserved_890|>oungeutations rreditemsi\\n'"
      ]
     },
     "execution_count": 48,
     "metadata": {},
     "output_type": "execute_result"
    }
   ],
   "source": [
    "torch.manual_seed(12345678)\n",
    "inputs = tokenizer.encode(\"a=\", return_tensors=\"pt\")\n",
    "outputs = model.generate(input_ids=inputs, max_new_tokens=10, do_sample=True)\n",
    "tokenizer.decode(outputs[0], skip_special_tokens=True)"
   ]
  },
  {
   "cell_type": "code",
   "execution_count": null,
   "metadata": {},
   "outputs": [],
   "source": []
  },
  {
   "cell_type": "code",
   "execution_count": null,
   "metadata": {},
   "outputs": [],
   "source": []
  },
  {
   "cell_type": "code",
   "execution_count": null,
   "metadata": {},
   "outputs": [],
   "source": []
  }
 ],
 "metadata": {
  "kernelspec": {
   "display_name": "torch23",
   "language": "python",
   "name": "python3"
  },
  "language_info": {
   "codemirror_mode": {
    "name": "ipython",
    "version": 3
   },
   "file_extension": ".py",
   "mimetype": "text/x-python",
   "name": "python",
   "nbconvert_exporter": "python",
   "pygments_lexer": "ipython3",
   "version": "3.12.2"
  }
 },
 "nbformat": 4,
 "nbformat_minor": 2
}

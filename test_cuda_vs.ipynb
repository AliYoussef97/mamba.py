{
 "cells": [
  {
   "cell_type": "code",
   "execution_count": 1,
   "metadata": {},
   "outputs": [],
   "source": [
    "import torch\n",
    "\n",
    "from mamba import MambaConfig, MambaBlock"
   ]
  },
  {
   "cell_type": "code",
   "execution_count": 8,
   "metadata": {},
   "outputs": [],
   "source": [
    "torch.manual_seed(123456)\n",
    "config = MambaConfig(d_model=64, n_layers=0, use_cuda=False)\n",
    "model = MambaBlock(config).to(\"cuda\")\n",
    "\n",
    "torch.manual_seed(123456)\n",
    "config_cuda = MambaConfig(d_model=64, n_layers=0, use_cuda=True)\n",
    "model_cuda = MambaBlock(config_cuda).to(\"cuda\")"
   ]
  },
  {
   "cell_type": "code",
   "execution_count": 9,
   "metadata": {},
   "outputs": [],
   "source": [
    "x = torch.randn(12, 100, 64).to(\"cuda\")"
   ]
  },
  {
   "cell_type": "code",
   "execution_count": 11,
   "metadata": {},
   "outputs": [
    {
     "data": {
      "text/plain": [
       "True"
      ]
     },
     "execution_count": 11,
     "metadata": {},
     "output_type": "execute_result"
    }
   ],
   "source": [
    "torch.allclose(model_cuda.foward_cuda(x), model(x), atol=0.0000001)"
   ]
  },
  {
   "cell_type": "code",
   "execution_count": 6,
   "metadata": {},
   "outputs": [
    {
     "data": {
      "text/plain": [
       "True"
      ]
     },
     "execution_count": 6,
     "metadata": {},
     "output_type": "execute_result"
    }
   ],
   "source": [
    "torch.allclose(model.foward_cuda_fast(x), model(x), atol=0.0000001)"
   ]
  },
  {
   "cell_type": "code",
   "execution_count": 12,
   "metadata": {},
   "outputs": [
    {
     "name": "stdout",
     "output_type": "stream",
     "text": [
      "2.06 ms ± 54.7 µs per loop (mean ± std. dev. of 7 runs, 100 loops each)\n"
     ]
    }
   ],
   "source": [
    "%timeit model(x)"
   ]
  },
  {
   "cell_type": "code",
   "execution_count": 13,
   "metadata": {},
   "outputs": [
    {
     "name": "stdout",
     "output_type": "stream",
     "text": [
      "562 µs ± 16 µs per loop (mean ± std. dev. of 7 runs, 1,000 loops each)\n"
     ]
    }
   ],
   "source": [
    "%timeit model_cuda(x)"
   ]
  },
  {
   "cell_type": "code",
   "execution_count": null,
   "metadata": {},
   "outputs": [],
   "source": []
  },
  {
   "cell_type": "code",
   "execution_count": null,
   "metadata": {},
   "outputs": [],
   "source": []
  },
  {
   "cell_type": "code",
   "execution_count": null,
   "metadata": {},
   "outputs": [],
   "source": []
  },
  {
   "cell_type": "code",
   "execution_count": 13,
   "metadata": {},
   "outputs": [
    {
     "name": "stdout",
     "output_type": "stream",
     "text": [
      "608 µs ± 39.8 µs per loop (mean ± std. dev. of 7 runs, 1,000 loops each)\n"
     ]
    }
   ],
   "source": [
    "%timeit model.foward_cuda(x)"
   ]
  },
  {
   "cell_type": "code",
   "execution_count": 14,
   "metadata": {},
   "outputs": [
    {
     "name": "stdout",
     "output_type": "stream",
     "text": [
      "544 µs ± 42.4 µs per loop (mean ± std. dev. of 7 runs, 1,000 loops each)\n"
     ]
    }
   ],
   "source": [
    "%timeit model.foward_cuda_fast(x)"
   ]
  },
  {
   "cell_type": "code",
   "execution_count": null,
   "metadata": {},
   "outputs": [],
   "source": []
  },
  {
   "cell_type": "code",
   "execution_count": 15,
   "metadata": {},
   "outputs": [
    {
     "data": {
      "text/plain": [
       "torch.Size([12, 128, 100])"
      ]
     },
     "execution_count": 15,
     "metadata": {},
     "output_type": "execute_result"
    }
   ],
   "source": [
    "(torch.randn(128, 4) @ torch.randn(12, 100, 4).transpose(1, 2)).shape"
   ]
  },
  {
   "cell_type": "code",
   "execution_count": 15,
   "metadata": {},
   "outputs": [
    {
     "data": {
      "text/plain": [
       "torch.Size([128])"
      ]
     },
     "execution_count": 15,
     "metadata": {},
     "output_type": "execute_result"
    }
   ],
   "source": [
    "model.dt_proj.bias.data.shape"
   ]
  },
  {
   "cell_type": "code",
   "execution_count": 20,
   "metadata": {},
   "outputs": [
    {
     "data": {
      "text/plain": [
       "tensor([[[ 0.0824, -6.3617, -4.0445,  ..., -4.0352, -3.3442, -8.0553],\n",
       "         [-2.1881, -4.9560, -0.3460,  ..., -6.1178, -2.8759, -6.5079],\n",
       "         [-3.8144, -7.9672, -2.5714,  ..., -4.0097, -4.5043, -6.3015],\n",
       "         ...,\n",
       "         [-3.4004, -7.1222, -3.2680,  ..., -2.3140, -4.6322, -7.5366],\n",
       "         [-1.5156, -3.3366, -2.2582,  ..., -3.5621, -3.1799, -5.1267],\n",
       "         [-1.5128, -6.4792, -2.8188,  ..., -4.9837, -3.3313, -5.9780]],\n",
       "\n",
       "        [[-2.4579, -6.3402, -1.7877,  ..., -5.3615, -5.0657, -6.2917],\n",
       "         [-1.7942, -5.3140, -2.3022,  ..., -4.8366, -3.5051, -6.6455],\n",
       "         [-1.9369, -5.9056, -3.0492,  ..., -3.4636, -6.0942, -6.0763],\n",
       "         ...,\n",
       "         [-1.8937, -6.6315, -3.0753,  ..., -4.9593, -5.1997, -7.3859],\n",
       "         [-4.6770, -4.9687, -2.1672,  ..., -2.9128, -5.1497, -6.3923],\n",
       "         [-2.1751, -7.6159, -1.8946,  ..., -2.4717, -4.9118, -6.6961]],\n",
       "\n",
       "        [[-2.3327, -6.0189, -1.9977,  ..., -4.6671, -4.4004, -7.8939],\n",
       "         [-4.1857, -5.1760, -2.1892,  ..., -3.5594, -4.0381, -5.3206],\n",
       "         [-1.4744, -5.8822, -2.5959,  ..., -3.1804, -5.7879, -7.6129],\n",
       "         ...,\n",
       "         [-2.3638, -6.5351, -0.9113,  ..., -3.6133, -4.2751, -5.7756],\n",
       "         [-2.0535, -6.4842, -2.7655,  ..., -4.5539, -3.8448, -7.0020],\n",
       "         [-1.3205, -8.0639, -2.3512,  ..., -2.8715, -4.9009, -5.1635]],\n",
       "\n",
       "        ...,\n",
       "\n",
       "        [[-0.9351, -5.8556, -3.5886,  ..., -3.7568, -4.2935, -7.4819],\n",
       "         [-0.4535, -6.1184, -4.0572,  ..., -2.8998, -4.3175, -6.6650],\n",
       "         [-1.9402, -6.0635, -2.5913,  ..., -2.0035, -6.2636, -5.9932],\n",
       "         ...,\n",
       "         [-3.1420, -6.1984, -0.9782,  ..., -4.8572, -4.7304, -5.8325],\n",
       "         [-2.8647, -6.9567, -3.3953,  ..., -5.6119, -4.7734, -4.3939],\n",
       "         [-1.9247, -4.7031, -4.7725,  ..., -3.2535, -5.1262, -6.9947]],\n",
       "\n",
       "        [[-2.1815, -6.0650, -2.1883,  ..., -5.0729, -5.2952, -6.1593],\n",
       "         [-4.9081, -6.5416, -2.1316,  ..., -4.7733, -6.2553, -7.4887],\n",
       "         [-3.3184, -6.9754, -2.5288,  ..., -3.4754, -3.6516, -6.5027],\n",
       "         ...,\n",
       "         [-1.0414, -5.7515, -2.8311,  ..., -5.5999, -4.8314, -4.9990],\n",
       "         [-1.2513, -6.9104, -3.6414,  ..., -4.9339, -4.4851, -6.9634],\n",
       "         [-1.8843, -5.9379, -1.4981,  ..., -3.7462, -3.6341, -5.7988]],\n",
       "\n",
       "        [[-3.0089, -6.1083, -1.7088,  ..., -4.0313, -5.0383, -4.3379],\n",
       "         [-1.8799, -6.5821, -1.8259,  ..., -3.4286, -3.8572, -7.3762],\n",
       "         [-2.7607, -7.4287, -2.5466,  ..., -3.6995, -4.8805, -6.6238],\n",
       "         ...,\n",
       "         [-3.7162, -7.1315, -4.0185,  ..., -4.4422, -4.2941, -5.1340],\n",
       "         [-2.2758, -4.9973, -1.7383,  ..., -6.2012, -5.1522, -6.0976],\n",
       "         [-2.5066, -6.5389, -1.1521,  ..., -3.4941, -5.1543, -7.6402]]],\n",
       "       device='cuda:0', grad_fn=<AddBackward0>)"
      ]
     },
     "execution_count": 20,
     "metadata": {},
     "output_type": "execute_result"
    }
   ],
   "source": [
    "torch.randn(16, 10, 128, device=\"cuda\") + model.dt_proj.bias"
   ]
  },
  {
   "cell_type": "code",
   "execution_count": null,
   "metadata": {},
   "outputs": [],
   "source": []
  }
 ],
 "metadata": {
  "kernelspec": {
   "display_name": "Python 3",
   "language": "python",
   "name": "python3"
  },
  "language_info": {
   "codemirror_mode": {
    "name": "ipython",
    "version": 3
   },
   "file_extension": ".py",
   "mimetype": "text/x-python",
   "name": "python",
   "nbconvert_exporter": "python",
   "pygments_lexer": "ipython3",
   "version": "3.10.12"
  }
 },
 "nbformat": 4,
 "nbformat_minor": 2
}

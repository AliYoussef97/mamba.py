{
 "cells": [
  {
   "cell_type": "code",
   "execution_count": 1,
   "metadata": {},
   "outputs": [],
   "source": [
    "import math\n",
    "import torch\n",
    "import torch.nn.functional as F"
   ]
  },
  {
   "cell_type": "code",
   "execution_count": 14,
   "metadata": {},
   "outputs": [],
   "source": [
    "num_steps = 8"
   ]
  },
  {
   "cell_type": "code",
   "execution_count": 15,
   "metadata": {},
   "outputs": [
    {
     "name": "stdout",
     "output_type": "stream",
     "text": [
      "0\n",
      "1\n",
      "2\n",
      "3\n",
      "4\n",
      "5\n",
      "6\n",
      "7\n"
     ]
    }
   ],
   "source": [
    "for k in range(0, num_steps-4):\n",
    "    print(k)\n",
    "\n",
    "print(num_steps-4)\n",
    "print(num_steps-3)\n",
    "print(num_steps-2)\n",
    "print(num_steps-1)"
   ]
  },
  {
   "cell_type": "code",
   "execution_count": 341,
   "metadata": {},
   "outputs": [],
   "source": [
    "def unfolded(X):\n",
    "    Xa = X\n",
    "    num_steps = int(math.log2(X.size(0)))\n",
    "\n",
    "    for k in range(num_steps-6):\n",
    "        T = 2*(Xa.size(0)//2)\n",
    "\n",
    "        Xa = Xa[:T].view(T//2, 2)\n",
    "        Xa[:, 1].add_(Xa[:, 0])\n",
    "        Xa = Xa[:, 1]\n",
    "\n",
    "    # num_steps-6\n",
    "    T = 2*(Xa.size(0) // 2)\n",
    "    Xa = Xa[:T].view(T//2, 2)\n",
    "    Xa[:, 1].add_(Xa[:, 0])\n",
    "    Xa = Xa[:, 1]\n",
    "\n",
    "    # num_steps-5\n",
    "    T = 2*(Xa.size(0) // 2)\n",
    "    Xa = Xa[:T].view(T//2, 2)\n",
    "    Xa[:, 1].add_(Xa[:, 0])\n",
    "    Xa = Xa[:, 1]\n",
    "\n",
    "    # num_steps-4\n",
    "    T = 2*(Xa.size(0) // 2)\n",
    "    Xa = Xa[:T].view(T//2, 2)\n",
    "    Xa[:, 1].add_(Xa[:, 0])\n",
    "    Xa = Xa[:, 1]\n",
    "\n",
    "    # num_steps-3\n",
    "    T = 2*(Xa.size(0) // 2)\n",
    "    Xa = Xa[:T].view(T//2, 2)\n",
    "    Xa[:, 1].add_(Xa[:, 0])\n",
    "    Xa = Xa[:, 1]\n",
    "\n",
    "    # num_steps-2\n",
    "    T = 2*(Xa.size(0) // 2)\n",
    "    Xa = Xa[:T].view(T//2, 2)\n",
    "    Xa[:, 1].add_(Xa[:, 0])\n",
    "    Xa = Xa[:, 1]\n",
    "\n",
    "    # num_steps-1\n",
    "    T = 2*(Xa.size(0) // 2)\n",
    "    Xa = Xa[:T].view(T//2, 2)\n",
    "    Xa[:, 1].add_(Xa[:, 0])\n",
    "    Xa = Xa[:, 1]\n",
    "\n",
    "def unfolded_3(X):\n",
    "    Xa = X\n",
    "    num_steps = int(math.log2(X.size(0)))\n",
    "\n",
    "    for k in range(num_steps-3):\n",
    "        T = 2*(Xa.size(0)//2)\n",
    "\n",
    "        Xa = Xa[:T].view(T//2, 2)\n",
    "        Xa[:, 1].add_(Xa[:, 0])\n",
    "        Xa = Xa[:, 1]\n",
    "    \n",
    "    Xa[1].add_(Xa[0])\n",
    "    Xa[3].add_(Xa[2])\n",
    "    Xa[5].add_(Xa[4])\n",
    "    Xa[7].add_(Xa[6])\n",
    "\n",
    "    Xa[3].add_(Xa[1])\n",
    "    Xa[7].add_(Xa[5])\n",
    "\n",
    "    Xa[7].add_(Xa[3])\n",
    "\n",
    "def unfolded_4(X):\n",
    "    Xa = X\n",
    "    num_steps = int(math.log2(X.size(0)))\n",
    "\n",
    "    for k in range(num_steps-3):\n",
    "        T = 2*(Xa.size(0)//2)\n",
    "\n",
    "        Xa = Xa[:T].view(T//2, 2)\n",
    "        Xa[:, 1].add_(Xa[:, 0])\n",
    "        Xa = Xa[:, 1]\n",
    "    \n",
    "    Xa[1].add_(Xa[0])\n",
    "    Xa[3].add_(Xa[1]+Xa[2])\n",
    "    Xa[5].add_(Xa[4])\n",
    "    Xa[7].add_(Xa[3]+X[5]+X[6])\n",
    "\n",
    "### BEST ###\n",
    "def unfolded_2(X):\n",
    "    Xa = X\n",
    "    num_steps = int(math.log2(X.size(0)))\n",
    "\n",
    "    for _ in range(num_steps-2):\n",
    "        T = 2*(Xa.size(0)//2)\n",
    "\n",
    "        Xa = Xa[:T].view(T//2, 2)\n",
    "        Xa[:, 1].add_(Xa[:, 0])\n",
    "        Xa = Xa[:, 1]\n",
    "    \n",
    "    # the last 2 steps are unfolded/done manually (up to 7 nodes)\n",
    "    T = 2 * (Xa.size(0) // 2)\n",
    "    if T == 6:\n",
    "        Xa[1].add_(Xa[0])\n",
    "        Xa[3].add_(Xa[2].add(Xa[1]))\n",
    "        Xa[5].add_(Xa[4])\n",
    "    elif T == 4:\n",
    "        Xa[1].add_(Xa[0])\n",
    "        Xa[3].add_(Xa[2].add(Xa[1]))\n",
    "    elif T == 3:\n",
    "        Xa[1].add_(Xa[0])\n",
    "    elif T == 2:\n",
    "        Xa[1].add_(Xa[0])\n",
    "\n",
    "def normal(X):\n",
    "    Xa = X\n",
    "    num_steps = int(math.log2(X.size(0)))\n",
    "\n",
    "    for k in range(num_steps):\n",
    "        T = 2*(Xa.size(0)//2)\n",
    "\n",
    "        Xa = Xa[:T].view(T//2, 2)\n",
    "        Xa[:, 1].add_(Xa[:, 0])\n",
    "        Xa = Xa[:, 1]"
   ]
  },
  {
   "cell_type": "code",
   "execution_count": 342,
   "metadata": {},
   "outputs": [
    {
     "data": {
      "text/plain": [
       "tensor([0, 1, 2, 3, 4, 5, 6, 7], device='cuda:0')"
      ]
     },
     "execution_count": 342,
     "metadata": {},
     "output_type": "execute_result"
    }
   ],
   "source": [
    "L = 8\n",
    "X = torch.arange(L).to(\"cuda\")\n",
    "X"
   ]
  },
  {
   "cell_type": "code",
   "execution_count": 343,
   "metadata": {},
   "outputs": [
    {
     "data": {
      "text/plain": [
       "tensor([ 0,  1,  2,  6,  4,  9,  6, 28], device='cuda:0')"
      ]
     },
     "execution_count": 343,
     "metadata": {},
     "output_type": "execute_result"
    }
   ],
   "source": [
    "X = torch.arange(L).to(\"cuda\")\n",
    "normal(X)\n",
    "X"
   ]
  },
  {
   "cell_type": "code",
   "execution_count": 344,
   "metadata": {},
   "outputs": [
    {
     "data": {
      "text/plain": [
       "tensor([ 0,  1,  2,  6,  4,  9,  6, 28], device='cuda:0')"
      ]
     },
     "execution_count": 344,
     "metadata": {},
     "output_type": "execute_result"
    }
   ],
   "source": [
    "X = torch.arange(L).to(\"cuda\")\n",
    "unfolded_2(X)\n",
    "X"
   ]
  },
  {
   "cell_type": "code",
   "execution_count": null,
   "metadata": {},
   "outputs": [],
   "source": []
  },
  {
   "cell_type": "code",
   "execution_count": null,
   "metadata": {},
   "outputs": [],
   "source": []
  },
  {
   "cell_type": "code",
   "execution_count": null,
   "metadata": {},
   "outputs": [],
   "source": []
  },
  {
   "cell_type": "code",
   "execution_count": null,
   "metadata": {},
   "outputs": [],
   "source": []
  },
  {
   "cell_type": "code",
   "execution_count": null,
   "metadata": {},
   "outputs": [],
   "source": []
  },
  {
   "cell_type": "code",
   "execution_count": 204,
   "metadata": {},
   "outputs": [
    {
     "data": {
      "text/plain": [
       "tensor([ 0,  1,  2,  6,  4,  9,  6, 28], device='cuda:0')"
      ]
     },
     "execution_count": 204,
     "metadata": {},
     "output_type": "execute_result"
    }
   ],
   "source": [
    "X = torch.arange(L).to(\"cuda\")\n",
    "unfolded_3(X)\n",
    "X"
   ]
  },
  {
   "cell_type": "code",
   "execution_count": 205,
   "metadata": {},
   "outputs": [
    {
     "data": {
      "text/plain": [
       "tensor([ 0,  1,  2,  6,  4,  9,  6, 28], device='cuda:0')"
      ]
     },
     "execution_count": 205,
     "metadata": {},
     "output_type": "execute_result"
    }
   ],
   "source": [
    "X = torch.arange(L).to(\"cuda\")\n",
    "unfolded_4(X)\n",
    "X"
   ]
  },
  {
   "cell_type": "code",
   "execution_count": null,
   "metadata": {},
   "outputs": [],
   "source": []
  },
  {
   "cell_type": "code",
   "execution_count": null,
   "metadata": {},
   "outputs": [],
   "source": []
  },
  {
   "cell_type": "code",
   "execution_count": 348,
   "metadata": {},
   "outputs": [],
   "source": [
    "L = 512\n",
    "X = torch.arange(L).to(\"cuda\")"
   ]
  },
  {
   "cell_type": "code",
   "execution_count": 349,
   "metadata": {},
   "outputs": [
    {
     "name": "stdout",
     "output_type": "stream",
     "text": [
      "198 µs ± 1.81 µs per loop (mean ± std. dev. of 7 runs, 1,000 loops each)\n"
     ]
    }
   ],
   "source": [
    "%timeit normal(X)"
   ]
  },
  {
   "cell_type": "code",
   "execution_count": 350,
   "metadata": {},
   "outputs": [
    {
     "name": "stdout",
     "output_type": "stream",
     "text": [
      "181 µs ± 2.09 µs per loop (mean ± std. dev. of 7 runs, 10,000 loops each)\n"
     ]
    }
   ],
   "source": [
    "%timeit unfolded_2(X)"
   ]
  },
  {
   "cell_type": "code",
   "execution_count": null,
   "metadata": {},
   "outputs": [],
   "source": []
  },
  {
   "cell_type": "code",
   "execution_count": 219,
   "metadata": {},
   "outputs": [
    {
     "name": "stdout",
     "output_type": "stream",
     "text": [
      "226 µs ± 6.26 µs per loop (mean ± std. dev. of 7 runs, 1,000 loops each)\n"
     ]
    }
   ],
   "source": [
    "%timeit unfolded_3(X)"
   ]
  },
  {
   "cell_type": "code",
   "execution_count": 220,
   "metadata": {},
   "outputs": [
    {
     "name": "stdout",
     "output_type": "stream",
     "text": [
      "225 µs ± 4.69 µs per loop (mean ± std. dev. of 7 runs, 1,000 loops each)\n"
     ]
    }
   ],
   "source": [
    "%timeit unfolded_4(X)"
   ]
  },
  {
   "cell_type": "code",
   "execution_count": null,
   "metadata": {},
   "outputs": [],
   "source": []
  },
  {
   "cell_type": "code",
   "execution_count": null,
   "metadata": {},
   "outputs": [],
   "source": []
  },
  {
   "cell_type": "code",
   "execution_count": null,
   "metadata": {},
   "outputs": [],
   "source": []
  },
  {
   "cell_type": "code",
   "execution_count": null,
   "metadata": {},
   "outputs": [],
   "source": []
  },
  {
   "cell_type": "code",
   "execution_count": null,
   "metadata": {},
   "outputs": [],
   "source": []
  },
  {
   "cell_type": "code",
   "execution_count": null,
   "metadata": {},
   "outputs": [],
   "source": []
  },
  {
   "cell_type": "code",
   "execution_count": null,
   "metadata": {},
   "outputs": [],
   "source": []
  },
  {
   "cell_type": "code",
   "execution_count": 705,
   "metadata": {},
   "outputs": [],
   "source": [
    "# BEST\n",
    "# unfold up sweep (2 steps) et down sweep (2 steps)\n",
    "def unfolded_2(X):\n",
    "    Xa = X\n",
    "    num_steps = int(math.log2(X.size(0)))\n",
    "\n",
    "    # up sweep (unfolded)\n",
    "    for _ in range(num_steps-2):\n",
    "        T = 2*(Xa.size(0)//2)\n",
    "\n",
    "        Xa = Xa[:T].view(T//2, 2)\n",
    "        Xa[:, 1].add_(Xa[:, 0])\n",
    "        Xa = Xa[:, 1]\n",
    "    \n",
    "    # the last 2 steps are unfolded/done manually (up to 7 nodes)\n",
    "    T = 2 * (Xa.size(0) // 2)\n",
    "    if T == 6:\n",
    "        Xa[1].add_(Xa[0])\n",
    "        Xa[3].add_(Xa[2].add(Xa[1]))\n",
    "        Xa[5].add_(Xa[4])\n",
    "    elif T == 4:\n",
    "        Xa[1].add_(Xa[0])\n",
    "        Xa[3].add_(Xa[2].add(Xa[1]))\n",
    "    elif T == 3:\n",
    "        Xa[1].add_(Xa[0])\n",
    "    elif T == 2:\n",
    "        Xa[1].add_(Xa[0])\n",
    "\n",
    "    # down sweep (unfolded)\n",
    "    Xa = X[2**(num_steps-1)-1:L:2**(num_steps-1)]\n",
    "    T = 2 * (Xa.size(0) // 2)\n",
    "\n",
    "    if T < Xa.size(0):\n",
    "        Xa[2].add_(Xa[1])\n",
    "\n",
    "    Xa = X[2**(num_steps-2)-1:L:2**(num_steps-2)]\n",
    "    T = 2 * (Xa.size(0) // 2)\n",
    "\n",
    "    #if T < Xa.size(0):\n",
    "    #    Xa[4].add_(Xa[3])\n",
    "\n",
    "    Xa[4].add_(Xa[3])\n",
    "    Xa[2].add_(Xa[1])\n",
    "\n",
    "    for k in range(num_steps-3, -1, -1):\n",
    "        Xa = X[2**k-1:L:2**k]\n",
    "\n",
    "        T = 2 * (Xa.size(0) // 2)\n",
    "\n",
    "        if T < Xa.size(0):\n",
    "            Xa[:, -1].add_(Xa[:, -2])\n",
    "\n",
    "        Xa = Xa[:T].view(T//2, 2)\n",
    "\n",
    "        Xa[1:, 0].add_(Xa[:-1, 1])\n",
    "\n",
    "def unfolded_2_with_flag(X):\n",
    "    Xa = X\n",
    "    num_steps = int(math.log2(X.size(0)))\n",
    "\n",
    "    flagstep = -1\n",
    "\n",
    "    # up sweep (unfolded)\n",
    "    for k in range(num_steps-2):\n",
    "        T = 2*(Xa.size(0)//2)\n",
    "        \n",
    "        if T < Xa.size(0):\n",
    "            flagstep = k\n",
    "\n",
    "        Xa = Xa[:T].view(T//2, 2)\n",
    "        Xa[:, 1].add_(Xa[:, 0])\n",
    "        Xa = Xa[:, 1]\n",
    "    \n",
    "    # the last 2 steps are unfolded/done manually (up to 7 nodes)\n",
    "    T = 2 * (Xa.size(0) // 2)\n",
    "    \n",
    "    if Xa.size(0) == 7:\n",
    "        flagstep = num_steps - 2\n",
    "    elif Xa.size(0) == 6:\n",
    "        flagstep = num_steps - 1\n",
    "    elif Xa.size(0) == 5:\n",
    "        flagstep = num_steps - 2\n",
    "    elif Xa.size(0) == 3:\n",
    "        flagstep = num_steps - 1\n",
    "\n",
    "    if T == 6:\n",
    "        Xa[1].add_(Xa[0])\n",
    "        Xa[3].add_(Xa[2].add(Xa[1]))\n",
    "        Xa[5].add_(Xa[4])\n",
    "    elif T == 4:\n",
    "        Xa[1].add_(Xa[0])\n",
    "        Xa[3].add_(Xa[2].add(Xa[1]))\n",
    "    elif T == 3:\n",
    "        Xa[1].add_(Xa[0])\n",
    "    elif T == 2:\n",
    "        Xa[1].add_(Xa[0])\n",
    "\n",
    "    # down sweep (unfolded)\n",
    "    Xa = X[2**(num_steps-2)-1:L:2**(num_steps-2)]\n",
    "    if flagstep == num_steps - 1:\n",
    "        Xa[5].add_(Xa[3])\n",
    "        Xa[4].add_(Xa[3])\n",
    "    elif flagstep == num_steps - 2:\n",
    "        print(\"hehe\")\n",
    "        Xa[4].add_(Xa[3])\n",
    "\n",
    "    Xa[2].add_(Xa[1])\n",
    "\n",
    "    for k in range(num_steps-3, -1, -1):\n",
    "        Xa = X[2**k-1:L:2**k]\n",
    "\n",
    "        T = 2 * (Xa.size(0) // 2)\n",
    "\n",
    "        if k == flagstep:\n",
    "            Xa[:, -1].add_(Xa[:, -2])\n",
    "\n",
    "        Xa = Xa[:T].view(T//2, 2)\n",
    "\n",
    "        Xa[1:, 0].add_(Xa[:-1, 1])\n",
    "\n",
    "# downsweep unfolded sur 3 steps\n",
    "def unfolded_22(X):\n",
    "    Xa = X\n",
    "    num_steps = int(math.log2(X.size(0)))\n",
    "\n",
    "    # up sweep (unfolded)\n",
    "    for _ in range(num_steps-2):\n",
    "        T = 2*(Xa.size(0)//2)\n",
    "\n",
    "        Xa = Xa[:T].view(T//2, 2)\n",
    "        Xa[:, 1].add_(Xa[:, 0])\n",
    "        Xa = Xa[:, 1]\n",
    "    \n",
    "    # the last 2 steps are unfolded/done manually (up to 7 nodes)\n",
    "    T = 2 * (Xa.size(0) // 2)\n",
    "    if T == 6:\n",
    "        Xa[1].add_(Xa[0])\n",
    "        Xa[3].add_(Xa[2].add(Xa[1]))\n",
    "        Xa[5].add_(Xa[4])\n",
    "    elif T == 4:\n",
    "        Xa[1].add_(Xa[0])\n",
    "        Xa[3].add_(Xa[2].add(Xa[1]))\n",
    "    elif T == 3:\n",
    "        Xa[1].add_(Xa[0])\n",
    "    elif T == 2:\n",
    "        Xa[1].add_(Xa[0])\n",
    "\n",
    "    # down sweep (unfolded)\n",
    "    Xa = X[2**(num_steps-3)-1:L:2**(num_steps-3)] # -2\n",
    "    Xa[5].add_(Xa[3])\n",
    "\n",
    "    Xa[4].add_(Xa[3])\n",
    "    Xa[6].add_(Xa[5])\n",
    "\n",
    "    for k in range(num_steps-4, -1, -1): # -3\n",
    "        Xa = X[2**k-1:L:2**k]\n",
    "\n",
    "        T = 2 * (Xa.size(0) // 2)\n",
    "\n",
    "        if T < Xa.size(0):\n",
    "            Xa[:, -1].add_(Xa[:, -2])\n",
    "\n",
    "        Xa = Xa[:T].view(T//2, 2)\n",
    "\n",
    "        Xa[1:, 0].add_(Xa[:-1, 1])\n",
    "\n",
    "def normal(X):\n",
    "    Xa = X\n",
    "    num_steps = int(math.log2(X.size(0)))\n",
    "\n",
    "    # up sweep\n",
    "    for _ in range(num_steps):\n",
    "        T = 2*(Xa.size(0)//2)\n",
    "\n",
    "        Xa = Xa[:T].view(T//2, 2)\n",
    "        Xa[:, 1].add_(Xa[:, 0])\n",
    "        Xa = Xa[:, 1]\n",
    "\n",
    "    # down sweep\n",
    "    for k in range(num_steps-1, -1, -1):\n",
    "        Xa = X[2**k-1:L:2**k]\n",
    "\n",
    "        T = 2 * (Xa.size(0) // 2)\n",
    "\n",
    "        if T < Xa.size(0):\n",
    "            Xa[-1].add_(Xa[-2])\n",
    "\n",
    "        Xa = Xa[:T].view(T//2, 2)\n",
    "\n",
    "        Xa[1:, 0].add_(Xa[:-1, 1])"
   ]
  },
  {
   "cell_type": "code",
   "execution_count": 706,
   "metadata": {},
   "outputs": [],
   "source": [
    "L = 7"
   ]
  },
  {
   "cell_type": "code",
   "execution_count": 707,
   "metadata": {},
   "outputs": [
    {
     "data": {
      "text/plain": [
       "tensor([ 0,  1,  3,  6, 10, 15, 21], device='cuda:0')"
      ]
     },
     "execution_count": 707,
     "metadata": {},
     "output_type": "execute_result"
    }
   ],
   "source": [
    "X = torch.arange(L).to(\"cuda\")\n",
    "normal(X)\n",
    "X"
   ]
  },
  {
   "cell_type": "code",
   "execution_count": 708,
   "metadata": {},
   "outputs": [
    {
     "data": {
      "text/plain": [
       "tensor([ 0,  1,  3,  6, 10, 15,  6], device='cuda:0')"
      ]
     },
     "execution_count": 708,
     "metadata": {},
     "output_type": "execute_result"
    }
   ],
   "source": [
    "X = torch.arange(L).to(\"cuda\")\n",
    "unfolded_2(X)\n",
    "X"
   ]
  },
  {
   "cell_type": "code",
   "execution_count": 709,
   "metadata": {},
   "outputs": [
    {
     "name": "stdout",
     "output_type": "stream",
     "text": [
      "hehe\n"
     ]
    },
    {
     "data": {
      "text/plain": [
       "tensor([ 0,  1,  3,  6, 10,  9,  6], device='cuda:0')"
      ]
     },
     "execution_count": 709,
     "metadata": {},
     "output_type": "execute_result"
    }
   ],
   "source": [
    "X = torch.arange(L).to(\"cuda\")\n",
    "unfolded_2_with_flag(X)\n",
    "X"
   ]
  },
  {
   "cell_type": "code",
   "execution_count": null,
   "metadata": {},
   "outputs": [],
   "source": []
  },
  {
   "cell_type": "code",
   "execution_count": 7,
   "metadata": {},
   "outputs": [],
   "source": [
    "len = 64\n",
    "a = torch.ones(len)"
   ]
  },
  {
   "cell_type": "code",
   "execution_count": 8,
   "metadata": {},
   "outputs": [],
   "source": [
    "def pad(a):\n",
    "    len_npo2 = 2**math.ceil(math.log2(len))\n",
    "    pad_tuple = (0, len_npo2-len)\n",
    "    return F.pad(a, pad_tuple, \"constant\", 0)"
   ]
  },
  {
   "cell_type": "code",
   "execution_count": 9,
   "metadata": {},
   "outputs": [
    {
     "name": "stdout",
     "output_type": "stream",
     "text": [
      "2.45 µs ± 50.1 ns per loop (mean ± std. dev. of 7 runs, 100,000 loops each)\n"
     ]
    }
   ],
   "source": [
    "%timeit pad(a)"
   ]
  },
  {
   "cell_type": "code",
   "execution_count": 10,
   "metadata": {},
   "outputs": [],
   "source": [
    "def pad_custom(a):\n",
    "    len_npo2 = 2**math.ceil(math.log2(len))\n",
    "\n",
    "    zeros = torch.zeros(len_npo2)\n",
    "    zeros[:a.size(0)] = a\n",
    "    return zeros"
   ]
  },
  {
   "cell_type": "code",
   "execution_count": 11,
   "metadata": {},
   "outputs": [
    {
     "name": "stdout",
     "output_type": "stream",
     "text": [
      "4.07 µs ± 244 ns per loop (mean ± std. dev. of 7 runs, 100,000 loops each)\n"
     ]
    }
   ],
   "source": [
    "%timeit pad_custom(a)"
   ]
  },
  {
   "cell_type": "code",
   "execution_count": null,
   "metadata": {},
   "outputs": [],
   "source": []
  },
  {
   "cell_type": "code",
   "execution_count": null,
   "metadata": {},
   "outputs": [],
   "source": []
  },
  {
   "cell_type": "code",
   "execution_count": 15,
   "metadata": {},
   "outputs": [
    {
     "data": {
      "text/plain": [
       "1"
      ]
     },
     "execution_count": 15,
     "metadata": {},
     "output_type": "execute_result"
    }
   ],
   "source": [
    "2**math.ceil(math.log2(1))"
   ]
  },
  {
   "cell_type": "code",
   "execution_count": null,
   "metadata": {},
   "outputs": [],
   "source": []
  },
  {
   "cell_type": "code",
   "execution_count": null,
   "metadata": {},
   "outputs": [],
   "source": []
  },
  {
   "cell_type": "code",
   "execution_count": 438,
   "metadata": {},
   "outputs": [
    {
     "data": {
      "text/plain": [
       "tensor([ 0,  1,  2,  6, 10, 15, 21, 28], device='cuda:0')"
      ]
     },
     "execution_count": 438,
     "metadata": {},
     "output_type": "execute_result"
    }
   ],
   "source": [
    "X = torch.arange(L).to(\"cuda\")\n",
    "unfolded_22(X)\n",
    "X"
   ]
  },
  {
   "cell_type": "code",
   "execution_count": null,
   "metadata": {},
   "outputs": [],
   "source": []
  },
  {
   "cell_type": "code",
   "execution_count": null,
   "metadata": {},
   "outputs": [],
   "source": []
  },
  {
   "cell_type": "code",
   "execution_count": null,
   "metadata": {},
   "outputs": [],
   "source": []
  },
  {
   "cell_type": "code",
   "execution_count": null,
   "metadata": {},
   "outputs": [],
   "source": []
  },
  {
   "cell_type": "code",
   "execution_count": 497,
   "metadata": {},
   "outputs": [],
   "source": [
    "L = 2048"
   ]
  },
  {
   "cell_type": "code",
   "execution_count": 500,
   "metadata": {},
   "outputs": [
    {
     "name": "stdout",
     "output_type": "stream",
     "text": [
      "431 µs ± 5.13 µs per loop (mean ± std. dev. of 7 runs, 1,000 loops each)\n"
     ]
    }
   ],
   "source": [
    "X = torch.arange(L).to(\"cuda\")\n",
    "%timeit unfolded_2(X)"
   ]
  },
  {
   "cell_type": "code",
   "execution_count": 501,
   "metadata": {},
   "outputs": [
    {
     "name": "stdout",
     "output_type": "stream",
     "text": [
      "495 µs ± 20.7 µs per loop (mean ± std. dev. of 7 runs, 1,000 loops each)\n"
     ]
    }
   ],
   "source": [
    "X = torch.arange(L).to(\"cuda\")\n",
    "%timeit normal(X)"
   ]
  },
  {
   "cell_type": "code",
   "execution_count": null,
   "metadata": {},
   "outputs": [],
   "source": []
  },
  {
   "cell_type": "code",
   "execution_count": 64,
   "metadata": {},
   "outputs": [],
   "source": [
    "def npo2_unfolded(X):\n",
    "    Xa = X\n",
    "    num_steps = int(math.log2(X.size(0)))\n",
    "\n",
    "    # up sweep (last 2 steps unfolded)\n",
    "    for k in range(num_steps-2):\n",
    "        Xa = Xa.view(Xa.size(0) // 2, 2)\n",
    "        Xa[:, 1].add_(Xa[:, 0])\n",
    "        Xa = Xa[:, 1]\n",
    "    \n",
    "    # (at this stage, we can have 4, 2 or 1 nodes) \n",
    "    if Xa.size(0) == 4:\n",
    "        Xa[1].add_(Xa[0])\n",
    "        Xa[3].add_(Xa[2].add(Xa[1]))\n",
    "    elif Xa.size(0) == 2:\n",
    "        Xa[1].add_(Xa[0])\n",
    "\n",
    "    # down sweep (first 2 steps unfolded)\n",
    "    Xa = X[2**(num_steps-2)-1:L:2**(num_steps-2)]\n",
    "    Xa[2].add_(Xa[1])\n",
    "\n",
    "    for k in range(num_steps-3, -1, -1):\n",
    "        Xa = X[2**k-1:L:2**k]\n",
    "        Xa = Xa.view(Xa.size(0) // 2, 2)\n",
    "        Xa[1:, 0].add_(Xa[:-1, 1])\n",
    "\n",
    "def npo2_normal(X):\n",
    "    Xa = X\n",
    "    num_steps = int(math.log2(X.size(0)))\n",
    "\n",
    "    # up sweep\n",
    "    for _ in range(num_steps):\n",
    "        T = 2*(Xa.size(0)//2)\n",
    "\n",
    "        Xa = Xa[:T].view(T//2, 2)\n",
    "        Xa[:, 1].add_(Xa[:, 0])\n",
    "        Xa = Xa[:, 1]\n",
    "\n",
    "    # down sweep\n",
    "    for k in range(num_steps-1, -1, -1):\n",
    "        Xa = X[2**k-1:L:2**k]\n",
    "\n",
    "        T = 2 * (Xa.size(0) // 2)\n",
    "\n",
    "        Xa = Xa[:T].view(T//2, 2)\n",
    "\n",
    "        Xa[1:, 0].add_(Xa[:-1, 1])"
   ]
  },
  {
   "cell_type": "code",
   "execution_count": 65,
   "metadata": {},
   "outputs": [],
   "source": [
    "L = 1024"
   ]
  },
  {
   "cell_type": "code",
   "execution_count": 66,
   "metadata": {},
   "outputs": [
    {
     "data": {
      "text/plain": [
       "tensor([     0,      1,      3,  ..., 521731, 522753, 523776], device='cuda:0')"
      ]
     },
     "execution_count": 66,
     "metadata": {},
     "output_type": "execute_result"
    }
   ],
   "source": [
    "X = torch.arange(L).to(\"cuda\")\n",
    "npo2_normal(X)\n",
    "X"
   ]
  },
  {
   "cell_type": "code",
   "execution_count": 67,
   "metadata": {},
   "outputs": [
    {
     "data": {
      "text/plain": [
       "True"
      ]
     },
     "execution_count": 67,
     "metadata": {},
     "output_type": "execute_result"
    }
   ],
   "source": [
    "X = torch.arange(L).to(\"cuda\")\n",
    "npo2_unfolded(X)\n",
    "torch.allclose(X, torch.cumsum(torch.arange(L).to(\"cuda\"), 0))"
   ]
  },
  {
   "cell_type": "code",
   "execution_count": 71,
   "metadata": {},
   "outputs": [
    {
     "name": "stdout",
     "output_type": "stream",
     "text": [
      "458 µs ± 9.98 µs per loop (mean ± std. dev. of 7 runs, 1,000 loops each)\n"
     ]
    }
   ],
   "source": [
    "X = torch.arange(L).to(\"cuda\")\n",
    "%timeit npo2_normal(X)"
   ]
  },
  {
   "cell_type": "code",
   "execution_count": 70,
   "metadata": {},
   "outputs": [
    {
     "name": "stdout",
     "output_type": "stream",
     "text": [
      "387 µs ± 11 µs per loop (mean ± std. dev. of 7 runs, 1,000 loops each)\n"
     ]
    }
   ],
   "source": [
    "X = torch.arange(L).to(\"cuda\")\n",
    "%timeit npo2_unfolded(X)"
   ]
  },
  {
   "cell_type": "code",
   "execution_count": null,
   "metadata": {},
   "outputs": [],
   "source": []
  },
  {
   "cell_type": "code",
   "execution_count": null,
   "metadata": {},
   "outputs": [],
   "source": []
  },
  {
   "cell_type": "code",
   "execution_count": 72,
   "metadata": {},
   "outputs": [],
   "source": [
    "X = torch.randn(5, 33, 16, 16) # (B, L, D, N)"
   ]
  },
  {
   "cell_type": "code",
   "execution_count": 74,
   "metadata": {},
   "outputs": [
    {
     "data": {
      "text/plain": [
       "torch.Size([5, 64, 16, 16])"
      ]
     },
     "execution_count": 74,
     "metadata": {},
     "output_type": "execute_result"
    }
   ],
   "source": [
    "len_npo2 = 2**math.ceil(math.log2(X.size(1)))\n",
    "pad_tuple = (0, 0, 0, 0, len_npo2 - X.size(1), 0)\n",
    "F.pad(X, pad_tuple, \"constant\", 0).shape"
   ]
  },
  {
   "cell_type": "code",
   "execution_count": null,
   "metadata": {},
   "outputs": [],
   "source": []
  },
  {
   "cell_type": "code",
   "execution_count": 75,
   "metadata": {},
   "outputs": [],
   "source": [
    "def pad_npo2(X):\n",
    "    # X : (B, L, D, N)\n",
    "\n",
    "    # Y : (B, npo2(L), D, N)\n",
    "\n",
    "    len_npo2 = 2**math.ceil(math.log2(X.size(1)))\n",
    "    pad_tuple = (0, 0, 0, 0, len_npo2 - X.size(1), 0)\n",
    "    return F.pad(X, pad_tuple, \"constant\", 0)"
   ]
  },
  {
   "cell_type": "code",
   "execution_count": 82,
   "metadata": {},
   "outputs": [
    {
     "name": "stdout",
     "output_type": "stream",
     "text": [
      "5.65 ms ± 70.1 µs per loop (mean ± std. dev. of 7 runs, 100 loops each)\n"
     ]
    }
   ],
   "source": [
    "%timeit pad_npo2(torch.randn(64, 33, 32, 16))"
   ]
  },
  {
   "cell_type": "code",
   "execution_count": 89,
   "metadata": {},
   "outputs": [],
   "source": [
    "g = torch.randn(64, 64, 32, 16).to(\"cuda\")"
   ]
  },
  {
   "cell_type": "code",
   "execution_count": 90,
   "metadata": {},
   "outputs": [
    {
     "name": "stdout",
     "output_type": "stream",
     "text": [
      "49.3 µs ± 475 ns per loop (mean ± std. dev. of 7 runs, 10,000 loops each)\n"
     ]
    }
   ],
   "source": [
    "%timeit pad_npo2(g)"
   ]
  },
  {
   "cell_type": "code",
   "execution_count": 91,
   "metadata": {},
   "outputs": [
    {
     "name": "stdout",
     "output_type": "stream",
     "text": [
      "49 µs ± 165 ns per loop (mean ± std. dev. of 7 runs, 10,000 loops each)\n"
     ]
    }
   ],
   "source": [
    "%timeit g.clone()"
   ]
  },
  {
   "cell_type": "code",
   "execution_count": null,
   "metadata": {},
   "outputs": [],
   "source": []
  }
 ],
 "metadata": {
  "kernelspec": {
   "display_name": "torch23",
   "language": "python",
   "name": "python3"
  },
  "language_info": {
   "codemirror_mode": {
    "name": "ipython",
    "version": 3
   },
   "file_extension": ".py",
   "mimetype": "text/x-python",
   "name": "python",
   "nbconvert_exporter": "python",
   "pygments_lexer": "ipython3",
   "version": "3.11.5"
  }
 },
 "nbformat": 4,
 "nbformat_minor": 2
}

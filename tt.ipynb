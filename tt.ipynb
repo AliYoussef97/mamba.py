{
 "cells": [
  {
   "cell_type": "code",
   "execution_count": 13,
   "metadata": {},
   "outputs": [],
   "source": [
    "import math\n",
    "import torch"
   ]
  },
  {
   "cell_type": "code",
   "execution_count": 14,
   "metadata": {},
   "outputs": [],
   "source": [
    "num_steps = 8"
   ]
  },
  {
   "cell_type": "code",
   "execution_count": 15,
   "metadata": {},
   "outputs": [
    {
     "name": "stdout",
     "output_type": "stream",
     "text": [
      "0\n",
      "1\n",
      "2\n",
      "3\n",
      "4\n",
      "5\n",
      "6\n",
      "7\n"
     ]
    }
   ],
   "source": [
    "for k in range(0, num_steps-4):\n",
    "    print(k)\n",
    "\n",
    "print(num_steps-4)\n",
    "print(num_steps-3)\n",
    "print(num_steps-2)\n",
    "print(num_steps-1)"
   ]
  },
  {
   "cell_type": "code",
   "execution_count": 341,
   "metadata": {},
   "outputs": [],
   "source": [
    "def unfolded(X):\n",
    "    Xa = X\n",
    "    num_steps = int(math.log2(X.size(0)))\n",
    "\n",
    "    for k in range(num_steps-6):\n",
    "        T = 2*(Xa.size(0)//2)\n",
    "\n",
    "        Xa = Xa[:T].view(T//2, 2)\n",
    "        Xa[:, 1].add_(Xa[:, 0])\n",
    "        Xa = Xa[:, 1]\n",
    "\n",
    "    # num_steps-6\n",
    "    T = 2*(Xa.size(0) // 2)\n",
    "    Xa = Xa[:T].view(T//2, 2)\n",
    "    Xa[:, 1].add_(Xa[:, 0])\n",
    "    Xa = Xa[:, 1]\n",
    "\n",
    "    # num_steps-5\n",
    "    T = 2*(Xa.size(0) // 2)\n",
    "    Xa = Xa[:T].view(T//2, 2)\n",
    "    Xa[:, 1].add_(Xa[:, 0])\n",
    "    Xa = Xa[:, 1]\n",
    "\n",
    "    # num_steps-4\n",
    "    T = 2*(Xa.size(0) // 2)\n",
    "    Xa = Xa[:T].view(T//2, 2)\n",
    "    Xa[:, 1].add_(Xa[:, 0])\n",
    "    Xa = Xa[:, 1]\n",
    "\n",
    "    # num_steps-3\n",
    "    T = 2*(Xa.size(0) // 2)\n",
    "    Xa = Xa[:T].view(T//2, 2)\n",
    "    Xa[:, 1].add_(Xa[:, 0])\n",
    "    Xa = Xa[:, 1]\n",
    "\n",
    "    # num_steps-2\n",
    "    T = 2*(Xa.size(0) // 2)\n",
    "    Xa = Xa[:T].view(T//2, 2)\n",
    "    Xa[:, 1].add_(Xa[:, 0])\n",
    "    Xa = Xa[:, 1]\n",
    "\n",
    "    # num_steps-1\n",
    "    T = 2*(Xa.size(0) // 2)\n",
    "    Xa = Xa[:T].view(T//2, 2)\n",
    "    Xa[:, 1].add_(Xa[:, 0])\n",
    "    Xa = Xa[:, 1]\n",
    "\n",
    "def unfolded_3(X):\n",
    "    Xa = X\n",
    "    num_steps = int(math.log2(X.size(0)))\n",
    "\n",
    "    for k in range(num_steps-3):\n",
    "        T = 2*(Xa.size(0)//2)\n",
    "\n",
    "        Xa = Xa[:T].view(T//2, 2)\n",
    "        Xa[:, 1].add_(Xa[:, 0])\n",
    "        Xa = Xa[:, 1]\n",
    "    \n",
    "    Xa[1].add_(Xa[0])\n",
    "    Xa[3].add_(Xa[2])\n",
    "    Xa[5].add_(Xa[4])\n",
    "    Xa[7].add_(Xa[6])\n",
    "\n",
    "    Xa[3].add_(Xa[1])\n",
    "    Xa[7].add_(Xa[5])\n",
    "\n",
    "    Xa[7].add_(Xa[3])\n",
    "\n",
    "def unfolded_4(X):\n",
    "    Xa = X\n",
    "    num_steps = int(math.log2(X.size(0)))\n",
    "\n",
    "    for k in range(num_steps-3):\n",
    "        T = 2*(Xa.size(0)//2)\n",
    "\n",
    "        Xa = Xa[:T].view(T//2, 2)\n",
    "        Xa[:, 1].add_(Xa[:, 0])\n",
    "        Xa = Xa[:, 1]\n",
    "    \n",
    "    Xa[1].add_(Xa[0])\n",
    "    Xa[3].add_(Xa[1]+Xa[2])\n",
    "    Xa[5].add_(Xa[4])\n",
    "    Xa[7].add_(Xa[3]+X[5]+X[6])\n",
    "\n",
    "### BEST ###\n",
    "def unfolded_2(X):\n",
    "    Xa = X\n",
    "    num_steps = int(math.log2(X.size(0)))\n",
    "\n",
    "    for _ in range(num_steps-2):\n",
    "        T = 2*(Xa.size(0)//2)\n",
    "\n",
    "        Xa = Xa[:T].view(T//2, 2)\n",
    "        Xa[:, 1].add_(Xa[:, 0])\n",
    "        Xa = Xa[:, 1]\n",
    "    \n",
    "    # the last 2 steps are unfolded/done manually (up to 7 nodes)\n",
    "    T = 2 * (Xa.size(0) // 2)\n",
    "    if T == 6:\n",
    "        Xa[1].add_(Xa[0])\n",
    "        Xa[3].add_(Xa[2].add(Xa[1]))\n",
    "        Xa[5].add_(Xa[4])\n",
    "    elif T == 4:\n",
    "        Xa[1].add_(Xa[0])\n",
    "        Xa[3].add_(Xa[2].add(Xa[1]))\n",
    "    elif T == 3:\n",
    "        Xa[1].add_(Xa[0])\n",
    "    elif T == 2:\n",
    "        Xa[1].add_(Xa[0])\n",
    "\n",
    "def normal(X):\n",
    "    Xa = X\n",
    "    num_steps = int(math.log2(X.size(0)))\n",
    "\n",
    "    for k in range(num_steps):\n",
    "        T = 2*(Xa.size(0)//2)\n",
    "\n",
    "        Xa = Xa[:T].view(T//2, 2)\n",
    "        Xa[:, 1].add_(Xa[:, 0])\n",
    "        Xa = Xa[:, 1]"
   ]
  },
  {
   "cell_type": "code",
   "execution_count": 342,
   "metadata": {},
   "outputs": [
    {
     "data": {
      "text/plain": [
       "tensor([0, 1, 2, 3, 4, 5, 6, 7], device='cuda:0')"
      ]
     },
     "execution_count": 342,
     "metadata": {},
     "output_type": "execute_result"
    }
   ],
   "source": [
    "L = 8\n",
    "X = torch.arange(L).to(\"cuda\")\n",
    "X"
   ]
  },
  {
   "cell_type": "code",
   "execution_count": 343,
   "metadata": {},
   "outputs": [
    {
     "data": {
      "text/plain": [
       "tensor([ 0,  1,  2,  6,  4,  9,  6, 28], device='cuda:0')"
      ]
     },
     "execution_count": 343,
     "metadata": {},
     "output_type": "execute_result"
    }
   ],
   "source": [
    "X = torch.arange(L).to(\"cuda\")\n",
    "normal(X)\n",
    "X"
   ]
  },
  {
   "cell_type": "code",
   "execution_count": 344,
   "metadata": {},
   "outputs": [
    {
     "data": {
      "text/plain": [
       "tensor([ 0,  1,  2,  6,  4,  9,  6, 28], device='cuda:0')"
      ]
     },
     "execution_count": 344,
     "metadata": {},
     "output_type": "execute_result"
    }
   ],
   "source": [
    "X = torch.arange(L).to(\"cuda\")\n",
    "unfolded_2(X)\n",
    "X"
   ]
  },
  {
   "cell_type": "code",
   "execution_count": null,
   "metadata": {},
   "outputs": [],
   "source": []
  },
  {
   "cell_type": "code",
   "execution_count": null,
   "metadata": {},
   "outputs": [],
   "source": []
  },
  {
   "cell_type": "code",
   "execution_count": null,
   "metadata": {},
   "outputs": [],
   "source": []
  },
  {
   "cell_type": "code",
   "execution_count": null,
   "metadata": {},
   "outputs": [],
   "source": []
  },
  {
   "cell_type": "code",
   "execution_count": null,
   "metadata": {},
   "outputs": [],
   "source": []
  },
  {
   "cell_type": "code",
   "execution_count": 204,
   "metadata": {},
   "outputs": [
    {
     "data": {
      "text/plain": [
       "tensor([ 0,  1,  2,  6,  4,  9,  6, 28], device='cuda:0')"
      ]
     },
     "execution_count": 204,
     "metadata": {},
     "output_type": "execute_result"
    }
   ],
   "source": [
    "X = torch.arange(L).to(\"cuda\")\n",
    "unfolded_3(X)\n",
    "X"
   ]
  },
  {
   "cell_type": "code",
   "execution_count": 205,
   "metadata": {},
   "outputs": [
    {
     "data": {
      "text/plain": [
       "tensor([ 0,  1,  2,  6,  4,  9,  6, 28], device='cuda:0')"
      ]
     },
     "execution_count": 205,
     "metadata": {},
     "output_type": "execute_result"
    }
   ],
   "source": [
    "X = torch.arange(L).to(\"cuda\")\n",
    "unfolded_4(X)\n",
    "X"
   ]
  },
  {
   "cell_type": "code",
   "execution_count": null,
   "metadata": {},
   "outputs": [],
   "source": []
  },
  {
   "cell_type": "code",
   "execution_count": null,
   "metadata": {},
   "outputs": [],
   "source": []
  },
  {
   "cell_type": "code",
   "execution_count": 348,
   "metadata": {},
   "outputs": [],
   "source": [
    "L = 512\n",
    "X = torch.arange(L).to(\"cuda\")"
   ]
  },
  {
   "cell_type": "code",
   "execution_count": 349,
   "metadata": {},
   "outputs": [
    {
     "name": "stdout",
     "output_type": "stream",
     "text": [
      "198 µs ± 1.81 µs per loop (mean ± std. dev. of 7 runs, 1,000 loops each)\n"
     ]
    }
   ],
   "source": [
    "%timeit normal(X)"
   ]
  },
  {
   "cell_type": "code",
   "execution_count": 350,
   "metadata": {},
   "outputs": [
    {
     "name": "stdout",
     "output_type": "stream",
     "text": [
      "181 µs ± 2.09 µs per loop (mean ± std. dev. of 7 runs, 10,000 loops each)\n"
     ]
    }
   ],
   "source": [
    "%timeit unfolded_2(X)"
   ]
  },
  {
   "cell_type": "code",
   "execution_count": null,
   "metadata": {},
   "outputs": [],
   "source": []
  },
  {
   "cell_type": "code",
   "execution_count": 219,
   "metadata": {},
   "outputs": [
    {
     "name": "stdout",
     "output_type": "stream",
     "text": [
      "226 µs ± 6.26 µs per loop (mean ± std. dev. of 7 runs, 1,000 loops each)\n"
     ]
    }
   ],
   "source": [
    "%timeit unfolded_3(X)"
   ]
  },
  {
   "cell_type": "code",
   "execution_count": 220,
   "metadata": {},
   "outputs": [
    {
     "name": "stdout",
     "output_type": "stream",
     "text": [
      "225 µs ± 4.69 µs per loop (mean ± std. dev. of 7 runs, 1,000 loops each)\n"
     ]
    }
   ],
   "source": [
    "%timeit unfolded_4(X)"
   ]
  },
  {
   "cell_type": "code",
   "execution_count": null,
   "metadata": {},
   "outputs": [],
   "source": []
  },
  {
   "cell_type": "code",
   "execution_count": null,
   "metadata": {},
   "outputs": [],
   "source": []
  },
  {
   "cell_type": "code",
   "execution_count": null,
   "metadata": {},
   "outputs": [],
   "source": []
  },
  {
   "cell_type": "code",
   "execution_count": null,
   "metadata": {},
   "outputs": [],
   "source": []
  },
  {
   "cell_type": "code",
   "execution_count": null,
   "metadata": {},
   "outputs": [],
   "source": []
  },
  {
   "cell_type": "code",
   "execution_count": 168,
   "metadata": {},
   "outputs": [
    {
     "data": {
      "text/plain": [
       "tensor([0, 1, 2, 3])"
      ]
     },
     "execution_count": 168,
     "metadata": {},
     "output_type": "execute_result"
    }
   ],
   "source": [
    "X = torch.arange(4)\n",
    "X"
   ]
  },
  {
   "cell_type": "code",
   "execution_count": 169,
   "metadata": {},
   "outputs": [
    {
     "data": {
      "text/plain": [
       "tensor([0, 1, 2, 6])"
      ]
     },
     "execution_count": 169,
     "metadata": {},
     "output_type": "execute_result"
    }
   ],
   "source": [
    "X[1].add_(X[0])\n",
    "X[3].add_(X[2].add(X[1]))\n",
    "X"
   ]
  },
  {
   "cell_type": "code",
   "execution_count": null,
   "metadata": {},
   "outputs": [],
   "source": []
  },
  {
   "cell_type": "code",
   "execution_count": 177,
   "metadata": {},
   "outputs": [
    {
     "data": {
      "text/plain": [
       "tensor([0, 1, 2, 3, 4, 5, 6, 7])"
      ]
     },
     "execution_count": 177,
     "metadata": {},
     "output_type": "execute_result"
    }
   ],
   "source": [
    "X = torch.arange(8)\n",
    "X"
   ]
  },
  {
   "cell_type": "code",
   "execution_count": 178,
   "metadata": {},
   "outputs": [
    {
     "data": {
      "text/plain": [
       "tensor([ 0,  1,  2,  6,  4,  9,  6, 28])"
      ]
     },
     "execution_count": 178,
     "metadata": {},
     "output_type": "execute_result"
    }
   ],
   "source": [
    "X[1].add_(X[0])\n",
    "X[3].add_(X[2])\n",
    "X[5].add_(X[4])\n",
    "X[7].add_(X[6])\n",
    "\n",
    "X[3].add_(X[1])\n",
    "X[7].add_(X[5])\n",
    "\n",
    "X[7].add_(X[3])\n",
    "\n",
    "X"
   ]
  },
  {
   "cell_type": "code",
   "execution_count": null,
   "metadata": {},
   "outputs": [],
   "source": []
  },
  {
   "cell_type": "code",
   "execution_count": null,
   "metadata": {},
   "outputs": [],
   "source": []
  },
  {
   "cell_type": "code",
   "execution_count": null,
   "metadata": {},
   "outputs": [],
   "source": []
  },
  {
   "cell_type": "code",
   "execution_count": null,
   "metadata": {},
   "outputs": [],
   "source": []
  },
  {
   "cell_type": "code",
   "execution_count": 108,
   "metadata": {},
   "outputs": [
    {
     "name": "stdout",
     "output_type": "stream",
     "text": [
      "121 µs ± 4.12 µs per loop (mean ± std. dev. of 7 runs, 10,000 loops each)\n"
     ]
    }
   ],
   "source": [
    "%timeit normal(X)"
   ]
  },
  {
   "cell_type": "code",
   "execution_count": 99,
   "metadata": {},
   "outputs": [
    {
     "name": "stdout",
     "output_type": "stream",
     "text": [
      "249 µs ± 2.42 µs per loop (mean ± std. dev. of 7 runs, 1,000 loops each)\n"
     ]
    }
   ],
   "source": [
    "%timeit unfolded(X)"
   ]
  },
  {
   "cell_type": "code",
   "execution_count": null,
   "metadata": {},
   "outputs": [],
   "source": []
  }
 ],
 "metadata": {
  "kernelspec": {
   "display_name": "torch23",
   "language": "python",
   "name": "python3"
  },
  "language_info": {
   "codemirror_mode": {
    "name": "ipython",
    "version": 3
   },
   "file_extension": ".py",
   "mimetype": "text/x-python",
   "name": "python",
   "nbconvert_exporter": "python",
   "pygments_lexer": "ipython3",
   "version": "3.11.5"
  }
 },
 "nbformat": 4,
 "nbformat_minor": 2
}

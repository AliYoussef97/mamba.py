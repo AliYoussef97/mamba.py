{
 "cells": [
  {
   "cell_type": "code",
   "execution_count": 1,
   "metadata": {},
   "outputs": [],
   "source": [
    "# full (attn et mamba)"
   ]
  },
  {
   "cell_type": "code",
   "execution_count": 1,
   "metadata": {},
   "outputs": [
    {
     "name": "stderr",
     "output_type": "stream",
     "text": [
      "/Users/alexandretorres/miniconda3/envs/torch23/lib/python3.12/site-packages/tqdm/auto.py:21: TqdmWarning: IProgress not found. Please update jupyter and ipywidgets. See https://ipywidgets.readthedocs.io/en/stable/user_install.html\n",
      "  from .autonotebook import tqdm as notebook_tqdm\n"
     ]
    }
   ],
   "source": [
    "import torch\n",
    "import torch.nn.functional as F\n",
    "\n",
    "from configuration_jamba import JambaConfig\n",
    "from modeling_jamba import JambaForCausalLM\n",
    "\n",
    "from jamba import JambaLMConfig as myJambaLMConfig, JambaLM as myJambaLM"
   ]
  },
  {
   "cell_type": "code",
   "execution_count": 2,
   "metadata": {},
   "outputs": [
    {
     "name": "stderr",
     "output_type": "stream",
     "text": [
      "The fast path is not available because on of `(selective_state_update, selective_scan_fn, causal_conv1d_fn, causal_conv1d_update, mamba_inner_fn)` is None. To install follow https://github.com/state-spaces/mamba/#installation and https://github.com/Dao-AILab/causal-conv1d. If you want to use the naive implementation, set `use_mamba_kernels=False` in the model config\n"
     ]
    }
   ],
   "source": [
    "config = JambaConfig(vocab_size=60, hidden_size=256, num_hidden_layers=8, intermediate_size=128, use_mamba_kernels=False)\n",
    "mixer = JambaForCausalLM(config)\n",
    "\n",
    "config_jamba = myJambaLMConfig(vocab_size=60, d_model=256, n_layers=8, rms_norm_eps=1e-6, mlp_size=128, inner_layernorms=True, tie_lm_weights=False)\n",
    "model = myJambaLM(config_jamba)\n",
    "\n",
    "for name, param in mixer.named_parameters():\n",
    "    name = name.replace(\"model.\", \"jamba.\")\n",
    "    \n",
    "    if \"embed_tokens\" in name:\n",
    "        name = \"embedding.weight\"\n",
    "    \n",
    "    if \"final_layernorm\" in name:\n",
    "        name = name.replace(\"jamba.\", \"\")\n",
    "    \n",
    "    counterpart_param = model.get_parameter(name)\n",
    "    if counterpart_param is not None:\n",
    "        counterpart_param.data.copy_(param.data)"
   ]
  },
  {
   "cell_type": "code",
   "execution_count": 10,
   "metadata": {},
   "outputs": [
    {
     "data": {
      "text/plain": [
       "True"
      ]
     },
     "execution_count": 10,
     "metadata": {},
     "output_type": "execute_result"
    }
   ],
   "source": [
    "data = torch.randint(0, 60, (1, 20))\n",
    "x = data[:, :-1]\n",
    "y = data[:, 1:]\n",
    "\n",
    "torch.allclose(mixer(x).logits, model(x)[0], atol=0.001)"
   ]
  },
  {
   "cell_type": "code",
   "execution_count": 11,
   "metadata": {},
   "outputs": [],
   "source": [
    "data = torch.randint(0, 60, (1, 20))\n",
    "x = data[:, :-1]\n",
    "y = data[:, 1:]\n",
    "\n",
    "logits_hf = mixer(x).logits\n",
    "loss_hf = F.cross_entropy(logits_hf.view(-1, logits_hf.size(-1)), y.view(-1))\n",
    "loss_hf.backward()\n",
    "\n",
    "logits = model(x)[0]\n",
    "loss = F.cross_entropy(logits.view(-1, logits.size(-1)), y.view(-1))\n",
    "loss.backward()"
   ]
  },
  {
   "cell_type": "code",
   "execution_count": 12,
   "metadata": {},
   "outputs": [],
   "source": [
    "gradient_close = True\n",
    "for (name, param) in mixer.named_parameters():\n",
    "    transformed_name = name.replace(\"model.\", \"jamba.\")\n",
    "    \n",
    "    if \"embed_tokens\" in name:\n",
    "        transformed_name = \"embedding.weight\"\n",
    "    \n",
    "    if \"final_layernorm\" in name:\n",
    "        transformed_name = transformed_name.replace(\"jamba.\", \"\")\n",
    "    \n",
    "    counterpart_param = model.get_parameter(transformed_name)\n",
    "    if counterpart_param is not None and param.grad is not None and counterpart_param.grad is not None:\n",
    "        if not torch.allclose(param.grad, counterpart_param.grad, atol=1e-6):\n",
    "            gradient_close = False\n",
    "            print(f\"Gradient mismatch found at {name}\")\n",
    "            break"
   ]
  },
  {
   "cell_type": "code",
   "execution_count": 13,
   "metadata": {},
   "outputs": [
    {
     "data": {
      "text/plain": [
       "tensor([[ 0.0000,  0.0000,  0.0000,  ...,  0.0000,  0.0000,  0.0000],\n",
       "        [ 0.0080, -0.0081, -0.0014,  ...,  0.0044, -0.0035, -0.0176],\n",
       "        [ 0.0051,  0.0018, -0.0030,  ...,  0.0145, -0.0063,  0.0110],\n",
       "        ...,\n",
       "        [-0.0059, -0.0111,  0.0469,  ..., -0.0121,  0.0169, -0.0184],\n",
       "        [ 0.0163, -0.0131, -0.0047,  ..., -0.0113, -0.0115, -0.0163],\n",
       "        [ 0.2363,  0.0969, -0.0448,  ...,  0.1178,  0.0344, -0.0113]])"
      ]
     },
     "execution_count": 13,
     "metadata": {},
     "output_type": "execute_result"
    }
   ],
   "source": [
    "mixer.model.embed_tokens.weight.grad"
   ]
  },
  {
   "cell_type": "code",
   "execution_count": 14,
   "metadata": {},
   "outputs": [
    {
     "data": {
      "text/plain": [
       "tensor([[ 0.0000,  0.0000,  0.0000,  ...,  0.0000,  0.0000,  0.0000],\n",
       "        [ 0.0080, -0.0081, -0.0014,  ...,  0.0044, -0.0035, -0.0176],\n",
       "        [ 0.0051,  0.0018, -0.0030,  ...,  0.0145, -0.0063,  0.0110],\n",
       "        ...,\n",
       "        [-0.0059, -0.0111,  0.0469,  ..., -0.0121,  0.0169, -0.0184],\n",
       "        [ 0.0163, -0.0131, -0.0047,  ..., -0.0113, -0.0115, -0.0163],\n",
       "        [ 0.2363,  0.0969, -0.0448,  ...,  0.1178,  0.0344, -0.0113]])"
      ]
     },
     "execution_count": 14,
     "metadata": {},
     "output_type": "execute_result"
    }
   ],
   "source": [
    "model.embedding.weight.grad"
   ]
  },
  {
   "cell_type": "code",
   "execution_count": null,
   "metadata": {},
   "outputs": [],
   "source": []
  },
  {
   "cell_type": "code",
   "execution_count": null,
   "metadata": {},
   "outputs": [],
   "source": []
  },
  {
   "cell_type": "code",
   "execution_count": null,
   "metadata": {},
   "outputs": [],
   "source": []
  },
  {
   "cell_type": "code",
   "execution_count": 17,
   "metadata": {},
   "outputs": [],
   "source": [
    "config_jamba = myJambaLMConfig(vocab_size=60, d_model=256, n_layers=6, rms_norm_eps=1e-6, mlp_size=128, inner_layernorms=True, tie_lm_weights=False,\n",
    "                               attn_layer_offset=2, attn_layer_period=3)\n",
    "model = myJambaLM(config_jamba)"
   ]
  },
  {
   "cell_type": "code",
   "execution_count": 18,
   "metadata": {},
   "outputs": [
    {
     "data": {
      "text/plain": [
       "JambaLM(\n",
       "  (embedding): Embedding(60, 256, padding_idx=0)\n",
       "  (jamba): Jamba(\n",
       "    (layers): ModuleList(\n",
       "      (0): MambaLayer(\n",
       "        (mamba): MambaBlock(\n",
       "          (in_proj): Linear(in_features=256, out_features=1024, bias=False)\n",
       "          (conv1d): Conv1d(512, 512, kernel_size=(4,), stride=(1,), padding=(3,), groups=512)\n",
       "          (x_proj): Linear(in_features=512, out_features=48, bias=False)\n",
       "          (dt_proj): Linear(in_features=16, out_features=512, bias=True)\n",
       "          (out_proj): Linear(in_features=512, out_features=256, bias=False)\n",
       "          (dt_layernorm): RMSNorm()\n",
       "          (B_layernorm): RMSNorm()\n",
       "          (C_layernorm): RMSNorm()\n",
       "        )\n",
       "        (moe): SparseMoEBlock(\n",
       "          (experts): ModuleList(\n",
       "            (0): MLP(\n",
       "              (gate_proj): Linear(in_features=256, out_features=128, bias=False)\n",
       "              (down_proj): Linear(in_features=128, out_features=256, bias=False)\n",
       "              (up_proj): Linear(in_features=256, out_features=128, bias=False)\n",
       "            )\n",
       "          )\n",
       "        )\n",
       "        (input_layernorm): RMSNorm()\n",
       "        (pre_moe_layernorm): RMSNorm()\n",
       "      )\n",
       "      (1): MambaLayer(\n",
       "        (mamba): MambaBlock(\n",
       "          (in_proj): Linear(in_features=256, out_features=1024, bias=False)\n",
       "          (conv1d): Conv1d(512, 512, kernel_size=(4,), stride=(1,), padding=(3,), groups=512)\n",
       "          (x_proj): Linear(in_features=512, out_features=48, bias=False)\n",
       "          (dt_proj): Linear(in_features=16, out_features=512, bias=True)\n",
       "          (out_proj): Linear(in_features=512, out_features=256, bias=False)\n",
       "          (dt_layernorm): RMSNorm()\n",
       "          (B_layernorm): RMSNorm()\n",
       "          (C_layernorm): RMSNorm()\n",
       "        )\n",
       "        (moe): SparseMoEBlock(\n",
       "          (router): Linear(in_features=256, out_features=16, bias=False)\n",
       "          (experts): ModuleList(\n",
       "            (0-15): 16 x MLP(\n",
       "              (gate_proj): Linear(in_features=256, out_features=128, bias=False)\n",
       "              (down_proj): Linear(in_features=128, out_features=256, bias=False)\n",
       "              (up_proj): Linear(in_features=256, out_features=128, bias=False)\n",
       "            )\n",
       "          )\n",
       "        )\n",
       "        (input_layernorm): RMSNorm()\n",
       "        (pre_moe_layernorm): RMSNorm()\n",
       "      )\n",
       "      (2): AttentionLayer(\n",
       "        (self_attn): AttentionSDPA(\n",
       "          (q_proj): Linear(in_features=256, out_features=256, bias=False)\n",
       "          (k_proj): Linear(in_features=256, out_features=64, bias=False)\n",
       "          (v_proj): Linear(in_features=256, out_features=64, bias=False)\n",
       "          (o_proj): Linear(in_features=256, out_features=256, bias=False)\n",
       "        )\n",
       "        (moe): SparseMoEBlock(\n",
       "          (experts): ModuleList(\n",
       "            (0): MLP(\n",
       "              (gate_proj): Linear(in_features=256, out_features=128, bias=False)\n",
       "              (down_proj): Linear(in_features=128, out_features=256, bias=False)\n",
       "              (up_proj): Linear(in_features=256, out_features=128, bias=False)\n",
       "            )\n",
       "          )\n",
       "        )\n",
       "        (input_layernorm): RMSNorm()\n",
       "        (pre_moe_layernorm): RMSNorm()\n",
       "      )\n",
       "      (3): MambaLayer(\n",
       "        (mamba): MambaBlock(\n",
       "          (in_proj): Linear(in_features=256, out_features=1024, bias=False)\n",
       "          (conv1d): Conv1d(512, 512, kernel_size=(4,), stride=(1,), padding=(3,), groups=512)\n",
       "          (x_proj): Linear(in_features=512, out_features=48, bias=False)\n",
       "          (dt_proj): Linear(in_features=16, out_features=512, bias=True)\n",
       "          (out_proj): Linear(in_features=512, out_features=256, bias=False)\n",
       "          (dt_layernorm): RMSNorm()\n",
       "          (B_layernorm): RMSNorm()\n",
       "          (C_layernorm): RMSNorm()\n",
       "        )\n",
       "        (moe): SparseMoEBlock(\n",
       "          (router): Linear(in_features=256, out_features=16, bias=False)\n",
       "          (experts): ModuleList(\n",
       "            (0-15): 16 x MLP(\n",
       "              (gate_proj): Linear(in_features=256, out_features=128, bias=False)\n",
       "              (down_proj): Linear(in_features=128, out_features=256, bias=False)\n",
       "              (up_proj): Linear(in_features=256, out_features=128, bias=False)\n",
       "            )\n",
       "          )\n",
       "        )\n",
       "        (input_layernorm): RMSNorm()\n",
       "        (pre_moe_layernorm): RMSNorm()\n",
       "      )\n",
       "      (4): MambaLayer(\n",
       "        (mamba): MambaBlock(\n",
       "          (in_proj): Linear(in_features=256, out_features=1024, bias=False)\n",
       "          (conv1d): Conv1d(512, 512, kernel_size=(4,), stride=(1,), padding=(3,), groups=512)\n",
       "          (x_proj): Linear(in_features=512, out_features=48, bias=False)\n",
       "          (dt_proj): Linear(in_features=16, out_features=512, bias=True)\n",
       "          (out_proj): Linear(in_features=512, out_features=256, bias=False)\n",
       "          (dt_layernorm): RMSNorm()\n",
       "          (B_layernorm): RMSNorm()\n",
       "          (C_layernorm): RMSNorm()\n",
       "        )\n",
       "        (moe): SparseMoEBlock(\n",
       "          (experts): ModuleList(\n",
       "            (0): MLP(\n",
       "              (gate_proj): Linear(in_features=256, out_features=128, bias=False)\n",
       "              (down_proj): Linear(in_features=128, out_features=256, bias=False)\n",
       "              (up_proj): Linear(in_features=256, out_features=128, bias=False)\n",
       "            )\n",
       "          )\n",
       "        )\n",
       "        (input_layernorm): RMSNorm()\n",
       "        (pre_moe_layernorm): RMSNorm()\n",
       "      )\n",
       "      (5): AttentionLayer(\n",
       "        (self_attn): AttentionSDPA(\n",
       "          (q_proj): Linear(in_features=256, out_features=256, bias=False)\n",
       "          (k_proj): Linear(in_features=256, out_features=64, bias=False)\n",
       "          (v_proj): Linear(in_features=256, out_features=64, bias=False)\n",
       "          (o_proj): Linear(in_features=256, out_features=256, bias=False)\n",
       "        )\n",
       "        (moe): SparseMoEBlock(\n",
       "          (router): Linear(in_features=256, out_features=16, bias=False)\n",
       "          (experts): ModuleList(\n",
       "            (0-15): 16 x MLP(\n",
       "              (gate_proj): Linear(in_features=256, out_features=128, bias=False)\n",
       "              (down_proj): Linear(in_features=128, out_features=256, bias=False)\n",
       "              (up_proj): Linear(in_features=256, out_features=128, bias=False)\n",
       "            )\n",
       "          )\n",
       "        )\n",
       "        (input_layernorm): RMSNorm()\n",
       "        (pre_moe_layernorm): RMSNorm()\n",
       "      )\n",
       "    )\n",
       "  )\n",
       "  (final_layernorm): RMSNorm()\n",
       "  (lm_head): Linear(in_features=256, out_features=60, bias=False)\n",
       ")"
      ]
     },
     "execution_count": 18,
     "metadata": {},
     "output_type": "execute_result"
    }
   ],
   "source": [
    "model"
   ]
  },
  {
   "cell_type": "code",
   "execution_count": null,
   "metadata": {},
   "outputs": [],
   "source": []
  }
 ],
 "metadata": {
  "kernelspec": {
   "display_name": "torch23",
   "language": "python",
   "name": "python3"
  },
  "language_info": {
   "codemirror_mode": {
    "name": "ipython",
    "version": 3
   },
   "file_extension": ".py",
   "mimetype": "text/x-python",
   "name": "python",
   "nbconvert_exporter": "python",
   "pygments_lexer": "ipython3",
   "version": "3.12.2"
  }
 },
 "nbformat": 4,
 "nbformat_minor": 2
}

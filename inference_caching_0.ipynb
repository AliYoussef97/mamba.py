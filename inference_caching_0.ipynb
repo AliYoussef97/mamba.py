{
 "cells": [
  {
   "cell_type": "code",
   "execution_count": 1,
   "metadata": {},
   "outputs": [],
   "source": [
    "import torch\n",
    "\n",
    "from jamba import JambaLMConfig, AttentionLayer, MambaLayer"
   ]
  },
  {
   "cell_type": "code",
   "execution_count": 2,
   "metadata": {},
   "outputs": [],
   "source": [
    "config = JambaLMConfig(d_model=64, mlp_size=12, n_layers=0, num_attention_heads=32, num_key_value_heads=8)\n",
    "layer = AttentionLayer(config, num_experts=12)"
   ]
  },
  {
   "cell_type": "code",
   "execution_count": 3,
   "metadata": {},
   "outputs": [],
   "source": [
    "x = torch.randn(1, 10, 64)"
   ]
  },
  {
   "cell_type": "code",
   "execution_count": 4,
   "metadata": {},
   "outputs": [
    {
     "data": {
      "text/plain": [
       "torch.Size([1, 10, 64])"
      ]
     },
     "execution_count": 4,
     "metadata": {},
     "output_type": "execute_result"
    }
   ],
   "source": [
    "output, _ = layer(x)\n",
    "output[0].shape"
   ]
  },
  {
   "cell_type": "code",
   "execution_count": 5,
   "metadata": {},
   "outputs": [
    {
     "data": {
      "text/plain": [
       "tensor([[40, 52,  0, 51, 59, 58, 32, 13, 47, 31]])"
      ]
     },
     "execution_count": 5,
     "metadata": {},
     "output_type": "execute_result"
    }
   ],
   "source": [
    "output[0].argmax(-1)"
   ]
  },
  {
   "cell_type": "code",
   "execution_count": 6,
   "metadata": {},
   "outputs": [
    {
     "name": "stdout",
     "output_type": "stream",
     "text": [
      "tensor([[40]])\n",
      "tensor([[52]])\n",
      "tensor([[0]])\n",
      "tensor([[51]])\n",
      "tensor([[59]])\n",
      "tensor([[58]])\n",
      "tensor([[32]])\n",
      "tensor([[13]])\n",
      "tensor([[47]])\n",
      "tensor([[31]])\n"
     ]
    }
   ],
   "source": [
    "cache = layer.get_empty_cache(1)\n",
    "ys = []\n",
    "for i in range(10):\n",
    "    y, cache = layer(x[:, [i]], cache)\n",
    "    print(y[0].argmax(-1))\n",
    "    ys.append(y[0])\n",
    "\n",
    "ys = torch.stack(ys, dim=1).squeeze(2)"
   ]
  },
  {
   "cell_type": "code",
   "execution_count": 7,
   "metadata": {},
   "outputs": [
    {
     "data": {
      "text/plain": [
       "True"
      ]
     },
     "execution_count": 7,
     "metadata": {},
     "output_type": "execute_result"
    }
   ],
   "source": [
    "torch.allclose(ys, output[0], rtol=0.01)"
   ]
  },
  {
   "cell_type": "code",
   "execution_count": 8,
   "metadata": {},
   "outputs": [
    {
     "data": {
      "text/plain": [
       "tensor([[ 0.8182, -0.2163,  1.0900, -0.9157, -0.4382,  0.7077,  0.0196, -1.2478,\n",
       "          0.7326, -1.7136, -0.4897,  0.7204,  1.9372,  1.7334,  0.8370, -1.7174,\n",
       "          0.7867, -0.0625, -0.3409,  1.6320,  1.5308, -0.0168,  0.7449, -0.9608,\n",
       "         -1.2185, -2.0860,  0.9055, -0.0909, -0.1073,  0.9026, -0.7729,  2.6731,\n",
       "         -1.4801, -1.1326,  0.1906, -0.1596, -0.8077, -1.8256, -0.1990,  0.1663,\n",
       "          0.4332, -0.6865, -0.4968, -1.0005,  0.4598, -1.7068,  0.1247, -0.7671,\n",
       "         -0.0491, -0.4059,  1.2473, -0.1668,  0.5088, -0.7709, -0.3113, -1.5821,\n",
       "         -2.0410, -0.3497, -0.3943,  0.1735, -0.2474, -1.3129, -0.9739, -1.3299]],\n",
       "       grad_fn=<SelectBackward0>)"
      ]
     },
     "execution_count": 8,
     "metadata": {},
     "output_type": "execute_result"
    }
   ],
   "source": [
    "output[0][:, 9]"
   ]
  },
  {
   "cell_type": "code",
   "execution_count": 9,
   "metadata": {},
   "outputs": [
    {
     "data": {
      "text/plain": [
       "tensor([[ 0.8182, -0.2163,  1.0900, -0.9157, -0.4382,  0.7077,  0.0196, -1.2478,\n",
       "          0.7326, -1.7136, -0.4897,  0.7204,  1.9372,  1.7334,  0.8370, -1.7174,\n",
       "          0.7867, -0.0625, -0.3409,  1.6320,  1.5308, -0.0168,  0.7449, -0.9608,\n",
       "         -1.2185, -2.0860,  0.9055, -0.0909, -0.1073,  0.9026, -0.7729,  2.6731,\n",
       "         -1.4801, -1.1326,  0.1906, -0.1596, -0.8077, -1.8256, -0.1990,  0.1663,\n",
       "          0.4332, -0.6865, -0.4968, -1.0005,  0.4598, -1.7068,  0.1247, -0.7671,\n",
       "         -0.0491, -0.4059,  1.2473, -0.1668,  0.5088, -0.7709, -0.3113, -1.5821,\n",
       "         -2.0410, -0.3497, -0.3943,  0.1735, -0.2474, -1.3129, -0.9739, -1.3299]],\n",
       "       grad_fn=<SelectBackward0>)"
      ]
     },
     "execution_count": 9,
     "metadata": {},
     "output_type": "execute_result"
    }
   ],
   "source": [
    "ys[:, 9]"
   ]
  },
  {
   "cell_type": "code",
   "execution_count": null,
   "metadata": {},
   "outputs": [],
   "source": []
  },
  {
   "cell_type": "code",
   "execution_count": null,
   "metadata": {},
   "outputs": [],
   "source": []
  }
 ],
 "metadata": {
  "kernelspec": {
   "display_name": "torch23",
   "language": "python",
   "name": "python3"
  },
  "language_info": {
   "codemirror_mode": {
    "name": "ipython",
    "version": 3
   },
   "file_extension": ".py",
   "mimetype": "text/x-python",
   "name": "python",
   "nbconvert_exporter": "python",
   "pygments_lexer": "ipython3",
   "version": "3.12.2"
  }
 },
 "nbformat": 4,
 "nbformat_minor": 2
}

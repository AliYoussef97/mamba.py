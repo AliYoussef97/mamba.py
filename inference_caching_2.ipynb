{
 "cells": [
  {
   "cell_type": "code",
   "execution_count": 7,
   "metadata": {},
   "outputs": [],
   "source": [
    "import torch\n",
    "import torch.nn.functional as F\n",
    "\n",
    "from transformers import AutoTokenizer, AutoModelForCausalLM\n",
    "\n",
    "from jamba import JambaLMConfig, JambaLM"
   ]
  },
  {
   "cell_type": "code",
   "execution_count": 8,
   "metadata": {},
   "outputs": [],
   "source": [
    "tokenizer = AutoTokenizer.from_pretrained(\"TechxGenus/Mini-Jamba\", trust_remote_code=True,)\n",
    "tokenizer.pad_token = tokenizer.eos_token\n",
    "\n",
    "model = AutoModelForCausalLM.from_pretrained(\"TechxGenus/Mini-Jamba\", torch_dtype=torch.float16, use_mamba_kernels=False, \n",
    "                                             device_map=\"auto\", trust_remote_code=True)"
   ]
  },
  {
   "cell_type": "code",
   "execution_count": 9,
   "metadata": {},
   "outputs": [],
   "source": [
    "config_jamba = JambaLMConfig(vocab_size=model.config.vocab_size, d_model=model.config.hidden_size, n_layers=model.config.num_hidden_layers, \n",
    "                               rms_norm_eps=model.config.rms_norm_eps, mlp_size=model.config.intermediate_size, inner_layernorms=model.config.mamba_inner_layernorms,\n",
    "                               expand_factor=model.config.mamba_expand, dt_rank=model.config.mamba_dt_rank, d_state=model.config.mamba_d_state,\n",
    "                               d_conv=model.config.mamba_d_conv, conv_bias=model.config.mamba_conv_bias, initializer_range=model.config.initializer_range,\n",
    "                               num_experts=model.config.num_experts, num_experts_per_tok=model.config.num_experts_per_tok, \n",
    "                               attn_layer_offset=model.config.attn_layer_offset, attn_layer_period=model.config.attn_layer_period, \n",
    "                               expert_layer_offset=model.config.expert_layer_offset, expert_layer_period=model.config.expert_layer_period,\n",
    "                               num_key_value_heads=model.config.num_key_value_heads, num_attention_heads=model.config.num_attention_heads,\n",
    "                               pad_token_id=model.config.pad_token_id, bias=model.config.mamba_proj_bias, attention_dropout=model.config.attention_dropout,\n",
    "                               tie_lm_weights=model.config.tie_word_embeddings)\n",
    "\n",
    "model = JambaLM(config_jamba)\n",
    "\n",
    "for name, param in model.named_parameters():\n",
    "    name = name.replace(\"model.\", \"jamba.\")\n",
    "    \n",
    "    if \"embed_tokens\" in name:\n",
    "        name = \"embedding.weight\"\n",
    "    \n",
    "    if \"final_layernorm\" in name:\n",
    "        name = name.replace(\"jamba.\", \"\")\n",
    "\n",
    "    counterpart_param = model.get_parameter(name)\n",
    "    if counterpart_param is not None:\n",
    "        counterpart_param.data.copy_(param.data)\n",
    "\n",
    "model = model.eval()"
   ]
  },
  {
   "cell_type": "code",
   "execution_count": 10,
   "metadata": {},
   "outputs": [],
   "source": [
    "def gen_no_caching(num_tokens):\n",
    "    batch_size = 1\n",
    "    \n",
    "    input_ids = 2*torch.ones(batch_size, 1, dtype=torch.int64)\n",
    "\n",
    "    for i in range(num_tokens):\n",
    "        next_token_logits, _ = model(input_ids[:, 0:i+1])\n",
    "        probs = F.softmax(next_token_logits[:, [-1]], dim=-1)\n",
    "        next_token = torch.argmax(probs, dim=-1)\n",
    "\n",
    "        input_ids = torch.cat([input_ids, next_token], dim=1)\n",
    "\n",
    "    return input_ids"
   ]
  },
  {
   "cell_type": "code",
   "execution_count": 11,
   "metadata": {},
   "outputs": [
    {
     "data": {
      "text/plain": [
       "tensor([[    2,  9421, 24881, 24881, 10872]])"
      ]
     },
     "execution_count": 11,
     "metadata": {},
     "output_type": "execute_result"
    }
   ],
   "source": [
    "gen_no_caching(4)"
   ]
  },
  {
   "cell_type": "code",
   "execution_count": 14,
   "metadata": {},
   "outputs": [],
   "source": [
    "def gen(num_tokens):\n",
    "    batch_size = 1\n",
    "\n",
    "    caches = [model.jamba.layers[i].get_empty_cache(batch_size) for i in range(config_jamba.n_layers)]\n",
    "    \n",
    "    input_ids = 2*torch.ones(batch_size, 1, dtype=torch.int64)\n",
    "\n",
    "    for i in range(num_tokens):\n",
    "        next_token_logits, caches = model(input_ids[:, [i]], caches)\n",
    "        probs = F.softmax(next_token_logits, dim=-1)\n",
    "        next_token = torch.argmax(probs, dim=-1)\n",
    "\n",
    "        input_ids = torch.cat([input_ids, next_token], dim=1)\n",
    "\n",
    "    return input_ids"
   ]
  },
  {
   "cell_type": "code",
   "execution_count": 15,
   "metadata": {},
   "outputs": [
    {
     "data": {
      "text/plain": [
       "tensor([[    2,  9421, 33330,  9421, 33330]])"
      ]
     },
     "execution_count": 15,
     "metadata": {},
     "output_type": "execute_result"
    }
   ],
   "source": [
    "gen(4)"
   ]
  },
  {
   "cell_type": "code",
   "execution_count": null,
   "metadata": {},
   "outputs": [],
   "source": []
  }
 ],
 "metadata": {
  "kernelspec": {
   "display_name": "torch23",
   "language": "python",
   "name": "python3"
  },
  "language_info": {
   "codemirror_mode": {
    "name": "ipython",
    "version": 3
   },
   "file_extension": ".py",
   "mimetype": "text/x-python",
   "name": "python",
   "nbconvert_exporter": "python",
   "pygments_lexer": "ipython3",
   "version": "3.12.2"
  }
 },
 "nbformat": 4,
 "nbformat_minor": 2
}

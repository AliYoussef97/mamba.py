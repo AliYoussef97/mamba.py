{
 "cells": [
  {
   "cell_type": "code",
   "execution_count": 5,
   "metadata": {},
   "outputs": [],
   "source": [
    "import math\n",
    "import torch\n",
    "\n",
    "from pscan_unfolded import pscan"
   ]
  },
  {
   "cell_type": "code",
   "execution_count": 6,
   "metadata": {},
   "outputs": [],
   "source": [
    "B, L, D, N = 1, 16, 1, 1\n",
    "\n",
    "A = torch.randn(B, L, D, N).to(\"cuda\")\n",
    "X = torch.randn(B, L, D, N).to(\"cuda\")"
   ]
  },
  {
   "cell_type": "code",
   "execution_count": 67,
   "metadata": {},
   "outputs": [],
   "source": [
    "def pscan(A, X):\n",
    "    B, D, L, _ = A.size()\n",
    "    num_steps = int(math.log2(L))\n",
    "\n",
    "    # up sweep (last 2 steps unfolded)\n",
    "    Aa = A\n",
    "    Xa = X\n",
    "    for _ in range(num_steps-2):\n",
    "        T = Xa.size(2)\n",
    "        Aa = Aa.view(B, D, T//2, 2, -1)\n",
    "        Xa = Xa.view(B, D, T//2, 2, -1)\n",
    "            \n",
    "        Xa[:, :, :, 1].add_(Aa[:, :, :, 1].mul(Xa[:, :, :, 0]))\n",
    "        Aa[:, :, :, 1].mul_(Aa[:, :, :, 0])\n",
    "\n",
    "        Aa = Aa[:, :, :, 1]\n",
    "        Xa = Xa[:, :, :, 1]\n",
    "\n",
    "    # we have only 4, 2 or 1 nodes left\n",
    "    if Xa.size(2) == 4:\n",
    "        Xa[:, :, 1].add_(Aa[:, :, 1].mul(Xa[:, :, 0]))\n",
    "        Aa[:, :, 1].mul_(Aa[:, :, 0])\n",
    "\n",
    "        Xa[:, :, 3].add_(Aa[:, :, 3].mul(Xa[:, :, 2] + Aa[:, :, 2].mul(Xa[:, :, 1])))\n",
    "        #Aa[:, :, 3].mul_(Aa[:, :, 2]) # todo : virer ?\n",
    "    elif Xa.size(2) == 2:\n",
    "        Xa[:, :, 1].add_(Aa[:, :, 1].mul(Xa[:, :, 0]))\n",
    "        #Aa[:, :, 1].mul_(Aa[:, :, 0]) # todo : virer ?\n",
    "        return\n",
    "    else:\n",
    "        return\n",
    "\n",
    "    # down sweep (first 2 steps unfolded)\n",
    "    Aa = A[:, :, 2**(num_steps-2)-1:L:2**(num_steps-2)]\n",
    "    Xa = X[:, :, 2**(num_steps-2)-1:L:2**(num_steps-2)]\n",
    "    Xa[:, :, 2].add_(Aa[:, :, 2].mul(Xa[:, :, 1]))\n",
    "    Aa[:, :, 2].mul_(Aa[:, :, 1])\n",
    "\n",
    "    for k in range(num_steps-3, -1, -1):\n",
    "        Aa = A[:, :, 2**k-1:L:2**k]\n",
    "        Xa = X[:, :, 2**k-1:L:2**k]\n",
    "\n",
    "        T = Xa.size(2)\n",
    "        Aa = Aa.view(B, D, T//2, 2, -1)\n",
    "        Xa = Xa.view(B, D, T//2, 2, -1)\n",
    "\n",
    "        Xa[:, :, 1:, 0].add_(Aa[:, :, 1:, 0].mul(Xa[:, :, :-1, 1]))\n",
    "        Aa[:, :, 1:, 0].mul_(Aa[:, :, :-1, 1])\n",
    "\n",
    "def pscan_rev(A, X):\n",
    "    B, D, L, _ = A.size()\n",
    "    num_steps = int(math.log2(L))\n",
    "\n",
    "    # up sweep (last 2 steps unfolded)\n",
    "    Aa = A\n",
    "    Xa = X\n",
    "    for _ in range(num_steps-2):\n",
    "        T = Xa.size(2)\n",
    "        Aa = Aa.view(B, D, T//2, 2, -1)\n",
    "        Xa = Xa.view(B, D, T//2, 2, -1)\n",
    "            \n",
    "        Xa[:, :, :, 0].add_(Aa[:, :, :, 0].mul(Xa[:, :, :, 1]))\n",
    "        Aa[:, :, :, 0].mul_(Aa[:, :, :, 1])\n",
    "\n",
    "        Aa = Aa[:, :, :, 0]\n",
    "        Xa = Xa[:, :, :, 0]\n",
    "\n",
    "    # we have only 4, 2 or 1 nodes left\n",
    "    if Xa.size(2) == 4:\n",
    "        Xa[:, :, 2].add_(Aa[:, :, 2].mul(Xa[:, :, 3]))\n",
    "        Aa[:, :, 2].mul_(Aa[:, :, 3])\n",
    "\n",
    "        Xa[:, :, 0].add_(Aa[:, :, 0].mul(Xa[:, :, 1] + Aa[:, :, 2].mul(Xa[:, :, 2])))\n",
    "        #Aa[:, :, 3].mul_(Aa[:, :, 2]) # todo : virer ?\n",
    "    elif Xa.size(2) == 2:\n",
    "        Xa[:, :, 0].add_(Aa[:, :, 0].mul(Xa[:, :, 1]))\n",
    "        #Aa[:, :, 1].mul_(Aa[:, :, 0]) # todo : virer ?\n",
    "        return\n",
    "    else:\n",
    "        return\n",
    "\n",
    "    # down sweep (first 2 steps unfolded)\n",
    "    Aa = A[:, :, 0:L:2**(num_steps-2)]\n",
    "    Xa = X[:, :, 0:L:2**(num_steps-2)]\n",
    "    Xa[:, :, 1].add_(Aa[:, :, 1].mul(Xa[:, :, 2]))\n",
    "    Aa[:, :, 1].mul_(Aa[:, :, 2])\n",
    "\n",
    "    for k in range(num_steps-3, -1, -1):\n",
    "        Aa = A[:, :, 0:L:2**k]\n",
    "        Xa = X[:, :, 0:L:2**k]\n",
    "\n",
    "        T = Xa.size(2)\n",
    "        Aa = Aa.view(B, D, T//2, 2, -1)\n",
    "        Xa = Xa.view(B, D, T//2, 2, -1)\n",
    "\n",
    "        Xa[:, :, :-1, 1].add_(Aa[:, :, :-1, 1].mul(Xa[:, :, 1:, 0]))\n",
    "        Aa[:, :, :-1, 1].mul_(Aa[:, :, 1:, 0])"
   ]
  },
  {
   "cell_type": "code",
   "execution_count": 71,
   "metadata": {},
   "outputs": [],
   "source": [
    "A = torch.ones(8).long().view(1, 1, 8, 1)\n",
    "X = torch.tensor([1, 2, 3, 4, 5, 6, 7, 8]).view(1, 1, 8, 1)"
   ]
  },
  {
   "cell_type": "code",
   "execution_count": 72,
   "metadata": {},
   "outputs": [],
   "source": [
    "pscan_rev(A, X)"
   ]
  },
  {
   "cell_type": "code",
   "execution_count": 73,
   "metadata": {},
   "outputs": [
    {
     "data": {
      "text/plain": [
       "tensor([[[[36],\n",
       "          [35],\n",
       "          [33],\n",
       "          [30],\n",
       "          [26],\n",
       "          [21],\n",
       "          [15],\n",
       "          [ 8]]]])"
      ]
     },
     "execution_count": 73,
     "metadata": {},
     "output_type": "execute_result"
    }
   ],
   "source": [
    "X"
   ]
  },
  {
   "cell_type": "code",
   "execution_count": null,
   "metadata": {},
   "outputs": [],
   "source": []
  },
  {
   "cell_type": "code",
   "execution_count": null,
   "metadata": {},
   "outputs": [],
   "source": [
    "from "
   ]
  },
  {
   "cell_type": "code",
   "execution_count": null,
   "metadata": {},
   "outputs": [],
   "source": []
  },
  {
   "cell_type": "code",
   "execution_count": null,
   "metadata": {},
   "outputs": [],
   "source": []
  }
 ],
 "metadata": {
  "kernelspec": {
   "display_name": "torch23",
   "language": "python",
   "name": "python3"
  },
  "language_info": {
   "codemirror_mode": {
    "name": "ipython",
    "version": 3
   },
   "file_extension": ".py",
   "mimetype": "text/x-python",
   "name": "python",
   "nbconvert_exporter": "python",
   "pygments_lexer": "ipython3",
   "version": "3.11.5"
  }
 },
 "nbformat": 4,
 "nbformat_minor": 2
}

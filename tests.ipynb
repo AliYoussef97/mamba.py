{
 "cells": [
  {
   "cell_type": "code",
   "execution_count": 1,
   "metadata": {},
   "outputs": [],
   "source": [
    "import torch\n",
    "\n",
    "from pscan_unfolded import pscan\n",
    "from pscan_unfolded_rev import pscan as pscan_w_rev"
   ]
  },
  {
   "cell_type": "code",
   "execution_count": 2,
   "metadata": {},
   "outputs": [],
   "source": [
    "device = \"cuda\""
   ]
  },
  {
   "cell_type": "code",
   "execution_count": 3,
   "metadata": {},
   "outputs": [],
   "source": [
    "B, L, D, N = 45, 64, 32, 16"
   ]
  },
  {
   "cell_type": "code",
   "execution_count": 4,
   "metadata": {},
   "outputs": [],
   "source": [
    "torch.manual_seed(1)\n",
    "A = torch.randn((B, L, D, N), dtype=torch.float64).to(device)\n",
    "X = torch.randn((B, L, D, N), dtype=torch.float64).to(device)\n",
    "\n",
    "A.requires_grad = True\n",
    "X.requires_grad = True"
   ]
  },
  {
   "cell_type": "code",
   "execution_count": 5,
   "metadata": {},
   "outputs": [],
   "source": [
    "Y = pscan(A, X)\n",
    "J = Y.sum()\n",
    "J.backward()"
   ]
  },
  {
   "cell_type": "code",
   "execution_count": 6,
   "metadata": {},
   "outputs": [],
   "source": [
    "torch.manual_seed(1)\n",
    "Ab = torch.randn((B, L, D, N), dtype=torch.float64).to(device)\n",
    "Xb = torch.randn((B, L, D, N), dtype=torch.float64).to(device)\n",
    "\n",
    "Ab.requires_grad = True\n",
    "Xb.requires_grad = True"
   ]
  },
  {
   "cell_type": "code",
   "execution_count": 7,
   "metadata": {},
   "outputs": [],
   "source": [
    "Y_w_rev = pscan_w_rev(Ab, Xb)\n",
    "J_w_rev = Y_w_rev.sum()\n",
    "J_w_rev.backward()"
   ]
  },
  {
   "cell_type": "code",
   "execution_count": 8,
   "metadata": {},
   "outputs": [
    {
     "data": {
      "text/plain": [
       "True"
      ]
     },
     "execution_count": 8,
     "metadata": {},
     "output_type": "execute_result"
    }
   ],
   "source": [
    "torch.allclose(Y, Y_w_rev)"
   ]
  },
  {
   "cell_type": "code",
   "execution_count": 9,
   "metadata": {},
   "outputs": [
    {
     "data": {
      "text/plain": [
       "True"
      ]
     },
     "execution_count": 9,
     "metadata": {},
     "output_type": "execute_result"
    }
   ],
   "source": [
    "torch.allclose(X.grad, Xb.grad, rtol=0.001)"
   ]
  },
  {
   "cell_type": "code",
   "execution_count": 10,
   "metadata": {},
   "outputs": [
    {
     "data": {
      "text/plain": [
       "True"
      ]
     },
     "execution_count": 10,
     "metadata": {},
     "output_type": "execute_result"
    }
   ],
   "source": [
    "torch.allclose(A.grad, Ab.grad, rtol=0.001)"
   ]
  },
  {
   "cell_type": "code",
   "execution_count": null,
   "metadata": {},
   "outputs": [],
   "source": []
  },
  {
   "cell_type": "code",
   "execution_count": 23,
   "metadata": {},
   "outputs": [],
   "source": [
    "B, L, D, N = 1, 8, 1, 1"
   ]
  },
  {
   "cell_type": "code",
   "execution_count": 24,
   "metadata": {},
   "outputs": [],
   "source": [
    "A = torch.ones(B, D, L, N, device=device)"
   ]
  },
  {
   "cell_type": "code",
   "execution_count": 32,
   "metadata": {},
   "outputs": [],
   "source": [
    "B = torch.cat([A[:, :, 1:], torch.zeros_like(A[:, :, [-1]])], dim=2) # todo : ca fait deja une copie non ? donc pas besoin de clone ? timeit\n",
    "C = torch.nn.functional.pad(A[:, :, 1:], (0, 0, 0, 1))"
   ]
  },
  {
   "cell_type": "code",
   "execution_count": 33,
   "metadata": {},
   "outputs": [
    {
     "data": {
      "text/plain": [
       "(tensor([[[[1.],\n",
       "           [1.],\n",
       "           [1.],\n",
       "           [1.],\n",
       "           [1.],\n",
       "           [1.],\n",
       "           [1.],\n",
       "           [1.]]]], device='cuda:0'),\n",
       " tensor([[[[1.],\n",
       "           [1.],\n",
       "           [1.],\n",
       "           [1.],\n",
       "           [1.],\n",
       "           [1.],\n",
       "           [1.],\n",
       "           [0.]]]], device='cuda:0'),\n",
       " tensor([[[[1.],\n",
       "           [1.],\n",
       "           [1.],\n",
       "           [1.],\n",
       "           [1.],\n",
       "           [1.],\n",
       "           [1.],\n",
       "           [0.]]]], device='cuda:0'))"
      ]
     },
     "execution_count": 33,
     "metadata": {},
     "output_type": "execute_result"
    }
   ],
   "source": [
    "A, B, C"
   ]
  },
  {
   "cell_type": "code",
   "execution_count": 29,
   "metadata": {},
   "outputs": [
    {
     "data": {
      "text/plain": [
       "False"
      ]
     },
     "execution_count": 29,
     "metadata": {},
     "output_type": "execute_result"
    }
   ],
   "source": [
    "torch.allclose(B, C)"
   ]
  },
  {
   "cell_type": "code",
   "execution_count": null,
   "metadata": {},
   "outputs": [],
   "source": []
  },
  {
   "cell_type": "code",
   "execution_count": null,
   "metadata": {},
   "outputs": [],
   "source": []
  },
  {
   "cell_type": "code",
   "execution_count": null,
   "metadata": {},
   "outputs": [],
   "source": []
  },
  {
   "cell_type": "code",
   "execution_count": null,
   "metadata": {},
   "outputs": [],
   "source": []
  },
  {
   "cell_type": "code",
   "execution_count": 7,
   "metadata": {},
   "outputs": [
    {
     "data": {
      "text/plain": [
       "torch.Size([45, 32, 64, 16])"
      ]
     },
     "execution_count": 7,
     "metadata": {},
     "output_type": "execute_result"
    }
   ],
   "source": [
    "torch.nn.functional.pad(A[:, :, 1:], (0, 0, 1, 0)).shape"
   ]
  },
  {
   "cell_type": "code",
   "execution_count": 9,
   "metadata": {},
   "outputs": [
    {
     "data": {
      "text/plain": [
       "torch.Size([45, 32, 64, 16])"
      ]
     },
     "execution_count": 9,
     "metadata": {},
     "output_type": "execute_result"
    }
   ],
   "source": [
    "torch.cat([A[:, :, 1:], A[:, :, [-1]]], dim=2).shape"
   ]
  },
  {
   "cell_type": "code",
   "execution_count": null,
   "metadata": {},
   "outputs": [],
   "source": []
  },
  {
   "cell_type": "code",
   "execution_count": null,
   "metadata": {},
   "outputs": [],
   "source": []
  },
  {
   "cell_type": "code",
   "execution_count": null,
   "metadata": {},
   "outputs": [],
   "source": []
  },
  {
   "cell_type": "code",
   "execution_count": null,
   "metadata": {},
   "outputs": [],
   "source": []
  },
  {
   "cell_type": "code",
   "execution_count": null,
   "metadata": {},
   "outputs": [],
   "source": []
  },
  {
   "cell_type": "code",
   "execution_count": 40,
   "metadata": {},
   "outputs": [
    {
     "name": "stdout",
     "output_type": "stream",
     "text": [
      "10.5 ms ± 218 µs per loop (mean ± std. dev. of 7 runs, 100 loops each)\n"
     ]
    }
   ],
   "source": [
    "%timeit torch.cat([A[:, :, 1:], A[:, :, [-1]]], dim=2)"
   ]
  },
  {
   "cell_type": "code",
   "execution_count": 41,
   "metadata": {},
   "outputs": [
    {
     "name": "stdout",
     "output_type": "stream",
     "text": [
      "8.92 ms ± 54.1 µs per loop (mean ± std. dev. of 7 runs, 1,000 loops each)\n"
     ]
    }
   ],
   "source": [
    "%timeit torch.nn.functional.pad(A[:, :, 1:], (0, 0, 1, 0))"
   ]
  },
  {
   "cell_type": "code",
   "execution_count": null,
   "metadata": {},
   "outputs": [],
   "source": []
  },
  {
   "cell_type": "code",
   "execution_count": null,
   "metadata": {},
   "outputs": [],
   "source": []
  },
  {
   "cell_type": "code",
   "execution_count": 21,
   "metadata": {},
   "outputs": [
    {
     "name": "stdout",
     "output_type": "stream",
     "text": [
      "509 µs ± 34.7 µs per loop (mean ± std. dev. of 7 runs, 1,000 loops each)\n"
     ]
    }
   ],
   "source": [
    "%timeit torch.cat([A[:, :, 1:], A[:, :, [-1]]], dim=2)"
   ]
  },
  {
   "cell_type": "code",
   "execution_count": 22,
   "metadata": {},
   "outputs": [
    {
     "name": "stdout",
     "output_type": "stream",
     "text": [
      "406 µs ± 2.37 µs per loop (mean ± std. dev. of 7 runs, 1,000 loops each)\n"
     ]
    }
   ],
   "source": [
    "%timeit A.clone()"
   ]
  },
  {
   "cell_type": "code",
   "execution_count": null,
   "metadata": {},
   "outputs": [],
   "source": []
  },
  {
   "cell_type": "code",
   "execution_count": null,
   "metadata": {},
   "outputs": [],
   "source": []
  },
  {
   "cell_type": "code",
   "execution_count": 15,
   "metadata": {},
   "outputs": [],
   "source": [
    "import math\n",
    "\n",
    "def pscan(A, X):\n",
    "    # A : (B, D, L, N)\n",
    "    # X : (B, D, L, N)\n",
    "\n",
    "    # modifies X in place by doing a parallel scan.\n",
    "    # more formally, X will be populated by these values :\n",
    "    # H[t] = A[t] * H[t-1] + X[t] with H[0] = 0\n",
    "    # which are computed in parallel (2*log2(T) sequential steps (ideally), instead of T sequential steps)\n",
    "        \n",
    "    B, D, L, _ = A.size()\n",
    "    num_steps = int(math.log2(L))\n",
    "\n",
    "    # up sweep (last 2 steps unfolded)\n",
    "    Aa = A\n",
    "    Xa = X\n",
    "    for _ in range(num_steps-2):\n",
    "        T = Xa.size(2)\n",
    "        Aa = Aa.view(B, D, T//2, 2, -1)\n",
    "        Xa = Xa.view(B, D, T//2, 2, -1)\n",
    "            \n",
    "        Xa[:, :, :, 1].add_(Aa[:, :, :, 1].mul(Xa[:, :, :, 0]))\n",
    "        Aa[:, :, :, 1].mul_(Aa[:, :, :, 0])\n",
    "\n",
    "        Aa = Aa[:, :, :, 1]\n",
    "        Xa = Xa[:, :, :, 1]\n",
    "\n",
    "    # we have only 4, 2 or 1 nodes left\n",
    "    if Xa.size(2) == 4:\n",
    "        Xa[:, :, 1].add_(Aa[:, :, 1].mul(Xa[:, :, 0]))\n",
    "        Aa[:, :, 1].mul_(Aa[:, :, 0])\n",
    "\n",
    "        Xa[:, :, 3].add_(Aa[:, :, 3].mul(Xa[:, :, 2] + Aa[:, :, 2].mul(Xa[:, :, 1])))\n",
    "        #Aa[:, :, 3].mul_(Aa[:, :, 2]) # todo : virer ?\n",
    "    elif Xa.size(2) == 2:\n",
    "        Xa[:, :, 1].add_(Aa[:, :, 1].mul(Xa[:, :, 0]))\n",
    "        #Aa[:, :, 1].mul_(Aa[:, :, 0]) # todo : virer ?\n",
    "        return\n",
    "    else:\n",
    "        return\n",
    "\n",
    "    # down sweep (first 2 steps unfolded)\n",
    "    Aa = A[:, :, 2**(num_steps-2)-1:L:2**(num_steps-2)]\n",
    "    Xa = X[:, :, 2**(num_steps-2)-1:L:2**(num_steps-2)]\n",
    "    Xa[:, :, 2].add_(Aa[:, :, 2].mul(Xa[:, :, 1]))\n",
    "    Aa[:, :, 2].mul_(Aa[:, :, 1])\n",
    "\n",
    "    for k in range(num_steps-3, -1, -1):\n",
    "        Aa = A[:, :, 2**k-1:L:2**k]\n",
    "        Xa = X[:, :, 2**k-1:L:2**k]\n",
    "\n",
    "        T = Xa.size(2)\n",
    "        Aa = Aa.view(B, D, T//2, 2, -1)\n",
    "        Xa = Xa.view(B, D, T//2, 2, -1)\n",
    "\n",
    "        Xa[:, :, 1:, 0].add_(Aa[:, :, 1:, 0].mul(Xa[:, :, :-1, 1]))\n",
    "        Aa[:, :, 1:, 0].mul_(Aa[:, :, :-1, 1])\n",
    "\n",
    "def pscan_rev(A, X):\n",
    "    # A : (B, D, L, N)\n",
    "    # X : (B, D, L, N)\n",
    "\n",
    "    B, D, L, _ = A.size()\n",
    "    num_steps = int(math.log2(L))\n",
    "\n",
    "    # up sweep (last 2 steps unfolded)\n",
    "    Aa = A\n",
    "    Xa = X\n",
    "    for _ in range(num_steps-2):\n",
    "        T = Xa.size(2)\n",
    "        Aa = Aa.view(B, D, T//2, 2, -1)\n",
    "        Xa = Xa.view(B, D, T//2, 2, -1)\n",
    "                \n",
    "        Xa[:, :, :, 0].add_(Aa[:, :, :, 0].mul(Xa[:, :, :, 1]))\n",
    "        Aa[:, :, :, 0].mul_(Aa[:, :, :, 1])\n",
    "\n",
    "        Aa = Aa[:, :, :, 0]\n",
    "        Xa = Xa[:, :, :, 0]\n",
    "\n",
    "    # we have only 4, 2 or 1 nodes left\n",
    "    if Xa.size(2) == 4:\n",
    "        Xa[:, :, 2].add_(Aa[:, :, 2].mul(Xa[:, :, 3]))\n",
    "        Aa[:, :, 2].mul_(Aa[:, :, 3])\n",
    "\n",
    "        Xa[:, :, 0].add_(Aa[:, :, 0].mul(Xa[:, :, 1] + Aa[:, :, 1].mul(Xa[:, :, 2])))\n",
    "        #Aa[:, :, 3].mul_(Aa[:, :, 2]) # todo : virer ?\n",
    "    elif Xa.size(2) == 2:\n",
    "        Xa[:, :, 0].add_(Aa[:, :, 0].mul(Xa[:, :, 1]))\n",
    "        #Aa[:, :, 1].mul_(Aa[:, :, 0]) # todo : virer ?\n",
    "        return\n",
    "    else:\n",
    "        return\n",
    "\n",
    "    # down sweep (first 2 steps unfolded)\n",
    "    Aa = A[:, :, 0:L:2**(num_steps-2)]\n",
    "    Xa = X[:, :, 0:L:2**(num_steps-2)]\n",
    "    Xa[:, :, 1].add_(Aa[:, :, 1].mul(Xa[:, :, 2]))\n",
    "    Aa[:, :, 1].mul_(Aa[:, :, 2])\n",
    "\n",
    "    for k in range(num_steps-3, -1, -1):\n",
    "        Aa = A[:, :, 0:L:2**k]\n",
    "        Xa = X[:, :, 0:L:2**k]\n",
    "\n",
    "        T = Xa.size(2)\n",
    "        Aa = Aa.view(B, D, T//2, 2, -1)\n",
    "        Xa = Xa.view(B, D, T//2, 2, -1)\n",
    "\n",
    "        Xa[:, :, :-1, 1].add_(Aa[:, :, :-1, 1].mul(Xa[:, :, 1:, 0]))\n",
    "        Aa[:, :, :-1, 1].mul_(Aa[:, :, 1:, 0])"
   ]
  },
  {
   "cell_type": "code",
   "execution_count": 25,
   "metadata": {},
   "outputs": [],
   "source": [
    "Ab = torch.tensor([1, 1, 2, 1]).view(1, 1, 4, 1).float().to(device)\n",
    "Xb = torch.tensor([1, 1, 1, 1]).float().view(1, 1, 4, 1).to(device)"
   ]
  },
  {
   "cell_type": "code",
   "execution_count": 26,
   "metadata": {},
   "outputs": [],
   "source": [
    "pscan_rev(Ab, Xb)"
   ]
  },
  {
   "cell_type": "code",
   "execution_count": 27,
   "metadata": {},
   "outputs": [
    {
     "data": {
      "text/plain": [
       "tensor([[[[5.],\n",
       "          [4.],\n",
       "          [3.],\n",
       "          [1.]]]], device='cuda:0')"
      ]
     },
     "execution_count": 27,
     "metadata": {},
     "output_type": "execute_result"
    }
   ],
   "source": [
    "Xb"
   ]
  },
  {
   "cell_type": "code",
   "execution_count": null,
   "metadata": {},
   "outputs": [],
   "source": []
  },
  {
   "cell_type": "code",
   "execution_count": null,
   "metadata": {},
   "outputs": [],
   "source": []
  },
  {
   "cell_type": "code",
   "execution_count": 25,
   "metadata": {},
   "outputs": [
    {
     "data": {
      "text/plain": [
       "tensor([[[[ 9.],\n",
       "          [12.],\n",
       "          [11.],\n",
       "          [ 5.],\n",
       "          [ 4.],\n",
       "          [ 3.],\n",
       "          [ 2.],\n",
       "          [ 1.]]]], device='cuda:0')"
      ]
     },
     "execution_count": 25,
     "metadata": {},
     "output_type": "execute_result"
    }
   ],
   "source": [
    "Xb"
   ]
  },
  {
   "cell_type": "code",
   "execution_count": null,
   "metadata": {},
   "outputs": [],
   "source": []
  }
 ],
 "metadata": {
  "kernelspec": {
   "display_name": "torch23",
   "language": "python",
   "name": "python3"
  },
  "language_info": {
   "codemirror_mode": {
    "name": "ipython",
    "version": 3
   },
   "file_extension": ".py",
   "mimetype": "text/x-python",
   "name": "python",
   "nbconvert_exporter": "python",
   "pygments_lexer": "ipython3",
   "version": "3.11.5"
  }
 },
 "nbformat": 4,
 "nbformat_minor": 2
}
